{
 "cells": [
  {
   "cell_type": "code",
   "execution_count": 23,
   "metadata": {
    "collapsed": true
   },
   "outputs": [],
   "source": [
    "import pandas as pd\n",
    "import glob\n",
    "from nltk.corpus import stopwords\n",
    "import numpy as np\n",
    "import matplotlib.pyplot as plt\n",
    "%matplotlib inline\n",
    "from sklearn.cluster import KMeans"
   ]
  },
  {
   "cell_type": "code",
   "execution_count": 24,
   "metadata": {
    "collapsed": false
   },
   "outputs": [],
   "source": [
    "# I load 101 pages for testing\n",
    "list_of_files=glob.glob('./cdips_dell_test/*.txt')\n",
    "#each page is cleaned to be a huge string, by lnyx in bash. Put all the strings in a list\n",
    "allwords=[]\n",
    "for i in range(len(list_of_files)):\n",
    "    file=open(list_of_files[i],'r')\n",
    "    raw=file.read().strip('\\n')\n",
    "    allwords.append(raw)\n"
   ]
  },
  {
   "cell_type": "code",
   "execution_count": 25,
   "metadata": {
    "collapsed": false
   },
   "outputs": [
    {
     "name": "stdout",
     "output_type": "stream",
     "text": [
      "Total number of files is 499\n",
      "One example is\n",
      " for hours only get tremendous savings up to off shop now dell o sign in click to chat or call us shop support community search financing live chat or call available contracts coupons join dell advantage rewards price match for work desktop and all in one pcs inspiron inspiron desktop ajax loader gif inspiron desktop series windows intel core for hours only get tremendous savings up to off shop now filter selections by reset operating system customize buy processor customize buy memory customize buy x page x nav x page compare viewing of next add to comparecompare selected inspiron desktop add to comparecompare selected inspiron desktop add to comparecompare selected inspiron desktop add to comparecompare selected inspiron desktop add to comparecompare selected inspiron desktop view details view details view details view details view details th generation intel core tm i processor windows home gb memory tb hard drive th generation intel core tm i processor windows home gb memory tb hard drive th generation intel core tm i processor windows professional gb memory tb hard drive th generation intel core tm i processor windows pro gb memory tb hard drive th generation intel core tm i processor windows professional gb memory tb hard drive inspiron desktop inspiron desktop inspiron desktop inspiron desktop inspiron desktop includes enough memory for smooth multitasking and windows home boost performance with th gen intel core tm i processor and windows home edit videos listen to music or watch a movie at the same time with less lag fully loaded with enough memory and hard drive space for increased multitasking windows professional included includes windows pro and a large hard drive for storing your most important files a powerful desktop for a home office includes gb of memory and windows professional at a great price starting price total savings dell price as low as mo apply estimated ship date jun order code smi w h customize buy add to cart starting price total savings dell price as low as mo apply smart selection ships jun order code smi w h customize buy add to cart starting price total savings dell price as low as mo apply estimated ship date jun order code smi w ph customize buy add to cart starting price total savings dell price as low as mo apply ships in business days order code cai w ph customize buy add to cart starting price total savings dell price as low as mo apply ships in business days order code cai w ph customize buy add to cart inspiron desktop inspiron desktop inspiron desktop inspiron desktop inspiron desktop deals save on select inspiron desktop business pcs limited time offer enjoy special savings on and year prosupport and prosupport plus plans new price changes save on select inspiron desktop business pcs limited time offer enjoy special savings on and year prosupport and prosupport plus plans new price changes save on select inspiron desktop business pcs limited time offer enjoy special savings on and year prosupport and prosupport plus plans new price changes save on select inspiron business pcs limited time offer enjoy special savings on and year prosupport and prosupport plus plans new price changes save on select inspiron desktop business pcs limited time offer enjoy special savings on and year prosupport and prosupport plus plans specifications expand similar specificationshide similar specificationsexpand all collapse all processor help me choose th generation intel core tm i processor m cache ghz th generation intel core tm i processor m cache up to ghz th generation intel core tm i processor m cache up to ghz th generation intel core tm i processor m cache up to ghz th generation intel core tm i processor m cache up to ghz operating system help me choose windows home bit english windows home bit english windows professional english bit includes windows pro license windows pro bit english windows professional english bit includes windows pro license memory help me choose gb dual channel ddr sdram at mhz gb dual channel ddr sdram at mhz gb dual channel ddr sdram at mhz gb dual channel ddr sdram at mhz gb dual channel ddr sdram at mhz hard drive help me choose tb rpm hard drive tb rpm hard drive tb rpm hard drive tb rpm hard drive tb rpm hard drive graphics card help me choose intel hd graphics intel hd graphics intel hd graphics intel hd graphics intel hd graphics security software help me choose mcafee livesafe month subscription mcafee livesafe month subscription mcafee livesafe month subscription mcafee livesafe month subscription mcafee livesafe month subscription warranty help me choose year ltd hware warranty mail in customer supplies box dell pays shipping year ltd hware warranty mail in customer supplies box dell pays shipping year ltd hware warranty mail in customer supplies box dell pays shipping year ltd hware warranty mail in customer supplies box dell pays shipping year ltd hware warranty mail in customer supplies box dell pays shipping optical drive help me choose tray load dvd drive reads and writes to dvd cd tray load dvd drive reads and writes to dvd cd tray load dvd drive reads and writes to dvd cd tray load dvd drive reads and writes to dvd cd tray load dvd drive reads and writes to dvd cd inspiron desktop series http www dell com us business p inspiron desktop fs insp iron desktop includes enough memory for smooth multitasking and windows home inspiron inspiron desktop th generation intel core tm i processor m cache ghz windows home bit english gb dual channel ddr sdram at mhz tb rpm hard drive intel hd graphicsmcafee livesafe month subscription year ltd hware warranty mail in customer supplies box dell pays shipping tray load dvd drive reads and writes to dvd cd inspiron desktop boost performance with th gen intel core tm i processor and windows home edit videos listen to music or watch a movie at the same time with less lag inspiron inspiron desktop th generation intel core tm i processor m cache up to ghz windows home bit english gb dual channel ddr sdram at mhz tb rpm hard drive intel hd graphicsmcafee livesafe month subscription year ltd hware warranty mail in customer supplies box dell pays shipping tray load dvd drive reads and writes to dvd cd inspiron desktop fully loaded with enough memory and hard drive space for increased multitasking windows professional included inspiron inspiron desktop th generation intel core tm i processor m cache up to ghz windows professional english bit includes windows pro license gb dual channel ddr sdram at mhz tb rpm hard drive intel hd graphicsmcafee livesafe month subscription year ltd hware warranty mail in customer supplies box dell pays shipping tray load dvd drive reads and writes to dvd cd inspiron desktop includes windows pro and a large hard drive for storing your most important files inspiron inspiron desktop th generation intel core tm i processor m cache up to ghz windows pro bit english gb dual channel ddr sdram at mhz tb rpm hard drive intel hd graphicsmcafee livesafe month subscription year ltd hware warranty mail in customer supplies box dell pays shipping tray load dvd drive reads and writes to dvd cd inspiron desktop a powerful desktop for a home office includes gb of memory and windows professional at a great price inspiron inspiron desktop th generation intel core tm i processor m cache up to ghz windows professional english bit includes windows pro license gb dual channel ddr sdram at mhz tb rpm hard drive intel hd graphicsmcafee livesafe month subscription year ltd hware warranty mail in customer supplies box dell pays shipping tray load dvd drive reads and writes to dvd cd chat go ahead ask us anything you ve got questions we ve got experts who can help find out now chat online dell business credit affordable financing made easy great financing solutions for better cash flow learn more do more with dell employee and student discounts partnerdirect the power to do more dell outlet techcenter make a payment about dell investors company information corporate social responsibility customer engagement careers newsroom legal ads emails privacy statement legal regulatory terms of sale trademarks community the dell community read our blog support forums events dell terms of sale unresolved issues privacy ads emails contact site map feedback ultrabook celeron celeron inside core inside intel intel logo intel atom intel atom inside intel core intel inside intel inside logo intel vpro itanium itanium inside pentium pentium inside vpro inside xeon xeon phi and xeon inside are trademarks of intel corporation in the u s and or other countries rewards are provided in the form of a promotional code back in rewards valid only on purchases using dell business credit dbc and dell advantage loyalty program back in rewards valid on all other dell advantage purchases bose products only eligible for rewards with dell advantage second business day shipping not available on tvs or larger and dell branded monitors rewards arrive separately from purchase typically in days from ship date via email expires in days except where prohibited by law any balance remaining on your purchase after dell advantage rewards are applied may not be paid with dbc and instead a separate form of payment must be used refurbished and or used purchases do not qualify for rewards terms and conditions apply dell com rewardterms dell business credit offer varies by creditworthiness as determined by lender offered by webbank to small and medium business customers with approved credit taxes shipping and other charges are extra and vary minimum monthly payments are the greater of or of account balance you can only compare up to products to compare this item uncheck one of the other products close p cs \n"
     ]
    }
   ],
   "source": [
    "#an example of the words from a page\n",
    "print(\"Total number of files is {}\".format(len(allwords)))\n",
    "print(\"One example is\")\n",
    "print(allwords[6])"
   ]
  },
  {
   "cell_type": "code",
   "execution_count": 26,
   "metadata": {
    "collapsed": false
   },
   "outputs": [
    {
     "data": {
      "text/plain": [
       "['i',\n",
       " 'me',\n",
       " 'my',\n",
       " 'myself',\n",
       " 'we',\n",
       " 'our',\n",
       " 'ours',\n",
       " 'ourselves',\n",
       " 'you',\n",
       " 'your',\n",
       " 'yours',\n",
       " 'yourself',\n",
       " 'yourselves',\n",
       " 'he',\n",
       " 'him',\n",
       " 'his',\n",
       " 'himself',\n",
       " 'she',\n",
       " 'her',\n",
       " 'hers',\n",
       " 'herself',\n",
       " 'it',\n",
       " 'its',\n",
       " 'itself',\n",
       " 'they',\n",
       " 'them',\n",
       " 'their',\n",
       " 'theirs',\n",
       " 'themselves',\n",
       " 'what',\n",
       " 'which',\n",
       " 'who',\n",
       " 'whom',\n",
       " 'this',\n",
       " 'that',\n",
       " 'these',\n",
       " 'those',\n",
       " 'am',\n",
       " 'is',\n",
       " 'are',\n",
       " 'was',\n",
       " 'were',\n",
       " 'be',\n",
       " 'been',\n",
       " 'being',\n",
       " 'have',\n",
       " 'has',\n",
       " 'had',\n",
       " 'having',\n",
       " 'do',\n",
       " 'does',\n",
       " 'did',\n",
       " 'doing',\n",
       " 'a',\n",
       " 'an',\n",
       " 'the',\n",
       " 'and',\n",
       " 'but',\n",
       " 'if',\n",
       " 'or',\n",
       " 'because',\n",
       " 'as',\n",
       " 'until',\n",
       " 'while',\n",
       " 'of',\n",
       " 'at',\n",
       " 'by',\n",
       " 'for',\n",
       " 'with',\n",
       " 'about',\n",
       " 'against',\n",
       " 'between',\n",
       " 'into',\n",
       " 'through',\n",
       " 'during',\n",
       " 'before',\n",
       " 'after',\n",
       " 'above',\n",
       " 'below',\n",
       " 'to',\n",
       " 'from',\n",
       " 'up',\n",
       " 'down',\n",
       " 'in',\n",
       " 'out',\n",
       " 'on',\n",
       " 'off',\n",
       " 'over',\n",
       " 'under',\n",
       " 'again',\n",
       " 'further',\n",
       " 'then',\n",
       " 'once',\n",
       " 'here',\n",
       " 'there',\n",
       " 'when',\n",
       " 'where',\n",
       " 'why',\n",
       " 'how',\n",
       " 'all',\n",
       " 'any',\n",
       " 'both',\n",
       " 'each',\n",
       " 'few',\n",
       " 'more',\n",
       " 'most',\n",
       " 'other',\n",
       " 'some',\n",
       " 'such',\n",
       " 'no',\n",
       " 'nor',\n",
       " 'not',\n",
       " 'only',\n",
       " 'own',\n",
       " 'same',\n",
       " 'so',\n",
       " 'than',\n",
       " 'too',\n",
       " 'very',\n",
       " 's',\n",
       " 't',\n",
       " 'can',\n",
       " 'will',\n",
       " 'just',\n",
       " 'don',\n",
       " 'should',\n",
       " 'now',\n",
       " 'd',\n",
       " 'll',\n",
       " 'm',\n",
       " 'o',\n",
       " 're',\n",
       " 've',\n",
       " 'y',\n",
       " 'ain',\n",
       " 'aren',\n",
       " 'couldn',\n",
       " 'didn',\n",
       " 'doesn',\n",
       " 'hadn',\n",
       " 'hasn',\n",
       " 'haven',\n",
       " 'isn',\n",
       " 'ma',\n",
       " 'mightn',\n",
       " 'mustn',\n",
       " 'needn',\n",
       " 'shan',\n",
       " 'shouldn',\n",
       " 'wasn',\n",
       " 'weren',\n",
       " 'won',\n",
       " 'wouldn',\n",
       " 'dell']"
      ]
     },
     "execution_count": 26,
     "metadata": {},
     "output_type": "execute_result"
    }
   ],
   "source": [
    "#load the stop words, and add word 'dell' to the list, show what is in the stop words.\n",
    "stops=stopwords.words(\"english\")\n",
    "stops.append('dell')\n",
    "stops"
   ]
  },
  {
   "cell_type": "code",
   "execution_count": 27,
   "metadata": {
    "collapsed": true
   },
   "outputs": [],
   "source": [
    "#load the bag_of_words method from sklearn, set the features to be 200, and get the word features \n",
    "#by calling the fit_transform method\n",
    "from sklearn.feature_extraction.text import CountVectorizer\n",
    "\n",
    "vectorizer = CountVectorizer(analyzer='word',stop_words=stops, max_features= 200)\n",
    "words_features = vectorizer.fit_transform(allwords)"
   ]
  },
  {
   "cell_type": "code",
   "execution_count": 28,
   "metadata": {
    "collapsed": false
   },
   "outputs": [
    {
     "data": {
      "text/plain": [
       "(499, 200)"
      ]
     },
     "execution_count": 28,
     "metadata": {},
     "output_type": "execute_result"
    }
   ],
   "source": [
    "#show the dimension of the words features, a 2D array, each row coresponds to each page.\n",
    "# columns are the most popular words frequency \n",
    "words_features=words_features.toarray()\n",
    "words_features.shape"
   ]
  },
  {
   "cell_type": "code",
   "execution_count": 29,
   "metadata": {
    "collapsed": false
   },
   "outputs": [
    {
     "name": "stdout",
     "output_type": "stream",
     "text": [
      "ac 778\n",
      "access 673\n",
      "accessories 520\n",
      "add 1539\n",
      "ads 649\n",
      "advantage 2446\n",
      "apply 1481\n",
      "atom 671\n",
      "available 1305\n",
      "back 3733\n",
      "balance 579\n",
      "battery 1411\n",
      "bit 813\n",
      "black 518\n",
      "business 5622\n",
      "buy 1171\n",
      "call 769\n",
      "card 1664\n",
      "cart 1074\n",
      "celeron 696\n",
      "cell 931\n",
      "certified 575\n",
      "chat 1059\n",
      "choose 1988\n",
      "cloud 561\n",
      "code 1338\n",
      "com 599\n",
      "community 1005\n",
      "compliance 681\n",
      "contact 520\n",
      "core 3482\n",
      "credit 2950\n",
      "customer 632\n",
      "customize 1177\n",
      "data 1664\n",
      "datasheets 567\n",
      "day 1647\n",
      "days 1301\n",
      "dbc 548\n",
      "ddr 664\n",
      "depth 919\n",
      "design 547\n",
      "desktop 934\n",
      "display 871\n",
      "double 970\n",
      "drive 2762\n",
      "dual 1077\n",
      "dvd 511\n",
      "emails 650\n",
      "emc 607\n",
      "energy 573\n",
      "english 899\n",
      "environment 807\n",
      "environmental 743\n",
      "external 676\n",
      "factor 683\n",
      "features 705\n",
      "financing 1682\n",
      "fips 833\n",
      "form 1296\n",
      "free 2687\n",
      "front 603\n",
      "full 969\n",
      "gb 4391\n",
      "gen 865\n",
      "generation 1168\n",
      "get 3685\n",
      "ghz 745\n",
      "graphics 831\n",
      "hard 1790\n",
      "hardware 897\n",
      "hd 1157\n",
      "hdmi 578\n",
      "height 1622\n",
      "help 2160\n",
      "high 514\n",
      "home 1432\n",
      "includes 817\n",
      "information 570\n",
      "inside 2957\n",
      "inspiron 701\n",
      "integrated 836\n",
      "intel 6280\n",
      "internal 608\n",
      "itanium 652\n",
      "keyboard 1029\n",
      "kg 1103\n",
      "laptop 634\n",
      "latitude 968\n",
      "lbs 785\n",
      "learn 673\n",
      "legal 660\n",
      "logo 1049\n",
      "low 1272\n",
      "management 1299\n",
      "member 1087\n",
      "memory 2411\n",
      "mhz 579\n",
      "microsoft 615\n",
      "mm 3032\n",
      "mo 1044\n",
      "monthly 532\n",
      "mouse 538\n",
      "nd 1037\n",
      "network 1036\n",
      "networking 737\n",
      "new 1351\n",
      "non 657\n",
      "offer 606\n",
      "offers 587\n",
      "one 859\n",
      "operating 622\n",
      "optional 1606\n",
      "options 1011\n",
      "optiplex 689\n",
      "order 1127\n",
      "page 687\n",
      "payment 692\n",
      "pcie 691\n",
      "pdf 672\n",
      "pentium 775\n",
      "performance 1255\n",
      "plus 613\n",
      "port 866\n",
      "ports 908\n",
      "power 1666\n",
      "poweredge 693\n",
      "precision 542\n",
      "premier 583\n",
      "price 2523\n",
      "privacy 667\n",
      "pro 1505\n",
      "processor 2203\n",
      "product 1030\n",
      "products 1051\n",
      "professional 1308\n",
      "prosupport 776\n",
      "protection 728\n",
      "ps 546\n",
      "purchase 799\n",
      "purchases 2016\n",
      "read 518\n",
      "reader 1045\n",
      "rear 589\n",
      "register 975\n",
      "regulatory 1475\n",
      "remote 617\n",
      "return 1204\n",
      "rewards 5734\n",
      "safety 577\n",
      "sale 762\n",
      "savings 1398\n",
      "security 1188\n",
      "selected 574\n",
      "separately 600\n",
      "series 2006\n",
      "server 743\n",
      "service 1219\n",
      "services 1058\n",
      "shipping 1711\n",
      "ships 984\n",
      "shop 865\n",
      "site 549\n",
      "slot 665\n",
      "small 1072\n",
      "smart 995\n",
      "software 1012\n",
      "solutions 761\n",
      "special 514\n",
      "starting 2019\n",
      "statement 576\n",
      "storage 1694\n",
      "support 2536\n",
      "system 1038\n",
      "tb 849\n",
      "technology 511\n",
      "terms 1245\n",
      "th 1749\n",
      "time 675\n",
      "tm 3408\n",
      "top 1323\n",
      "total 1081\n",
      "touch 1398\n",
      "trademarks 946\n",
      "us 808\n",
      "usb 1802\n",
      "used 626\n",
      "using 1435\n",
      "valid 583\n",
      "vpro 811\n",
      "warranty 538\n",
      "weight 1023\n",
      "whr 698\n",
      "width 879\n",
      "windows 3361\n",
      "wired 546\n",
      "wireless 1373\n",
      "wyse 833\n",
      "xeon 1188\n",
      "year 906\n"
     ]
    }
   ],
   "source": [
    "#show the feature words and their counts\n",
    "key_words = vectorizer.get_feature_names()\n",
    "words_count=np.sum(words_features,axis=0)\n",
    "\n",
    "for tag, count in zip(key_words,words_count):\n",
    "    print(tag, count)"
   ]
  },
  {
   "cell_type": "code",
   "execution_count": 30,
   "metadata": {
    "collapsed": true
   },
   "outputs": [],
   "source": [
    "#initialize the kmeans clustering methods, and cluster the words_features to 5 classes \n",
    "#kmeans_clustering=KMeans(n_clusters=6,n_jobs=-1, random_state=14)\n",
    "#prediction_clusters=kmeans_clustering.fit_predict(words_features)"
   ]
  },
  {
   "cell_type": "code",
   "execution_count": 31,
   "metadata": {
    "collapsed": true
   },
   "outputs": [],
   "source": [
    "# find the optimal number of clusters by plotting the .inertia_: \n",
    "#Sum of distances of samples to their closest cluster center.\n",
    "\n",
    "distortions = []\n",
    "prediction_clusters=[]\n",
    "for i in range (1, 30):\n",
    "    km_clustering=KMeans(n_clusters=i, \n",
    "                         n_jobs=-1, n_init=50, random_state=14)\n",
    "    prediction_cluster = km_clustering.fit_predict(words_features)\n",
    "    distortions.append(km_clustering.inertia_)\n",
    "    prediction_clusters.append(prediction_cluster)\n"
   ]
  },
  {
   "cell_type": "code",
   "execution_count": 32,
   "metadata": {
    "collapsed": false
   },
   "outputs": [
    {
     "data": {
      "image/png": "[encoded data removed]",
      "text/plain": [
       "<matplotlib.figure.Figure at 0x118014588>"
      ]
     },
     "metadata": {},
     "output_type": "display_data"
    }
   ],
   "source": [
    "plt.plot(range(1,30),distortions, marker='o')\n",
    "plt.xlabel('Number of clusters')\n",
    "plt.ylabel('Distortion')\n",
    "plt.show()"
   ]
  },
  {
   "cell_type": "code",
   "execution_count": 33,
   "metadata": {
    "collapsed": false,
    "scrolled": true
   },
   "outputs": [
    {
     "data": {
      "image/png": "[encoded data removed]",
      "text/plain": [
       "<matplotlib.figure.Figure at 0x117fd39b0>"
      ]
     },
     "metadata": {},
     "output_type": "display_data"
    }
   ],
   "source": [
    "plt.scatter(range(1,len(prediction_clusters[25])+1),prediction_clusters[25],)\n",
    "plt.ylim(-1,26)\n",
    "plt.show()"
   ]
  },
  {
   "cell_type": "code",
   "execution_count": null,
   "metadata": {
    "collapsed": true
   },
   "outputs": [],
   "source": []
  },
  {
   "cell_type": "code",
   "execution_count": null,
   "metadata": {
    "collapsed": true
   },
   "outputs": [],
   "source": []
  }
 ],
 "metadata": {
  "kernelspec": {
   "display_name": "Python 3",
   "language": "python",
   "name": "python3"
  },
  "language_info": {
   "codemirror_mode": {
    "name": "ipython",
    "version": 3
   },
   "file_extension": ".py",
   "mimetype": "text/x-python",
   "name": "python",
   "nbconvert_exporter": "python",
   "pygments_lexer": "ipython3",
   "version": "3.5.1"
  }
 },
 "nbformat": 4,
 "nbformat_minor": 0
}
