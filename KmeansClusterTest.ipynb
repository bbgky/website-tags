{
 "cells": [
  {
   "cell_type": "code",
   "execution_count": 1,
   "metadata": {
    "collapsed": true
   },
   "outputs": [],
   "source": [
    "import pandas as pd\n",
    "import glob\n",
    "from nltk.corpus import stopwords\n",
    "import numpy as np\n",
    "import matplotlib.pyplot as plt\n",
    "%matplotlib inline\n",
    "from sklearn.cluster import KMeans"
   ]
  },
  {
   "cell_type": "code",
   "execution_count": 2,
   "metadata": {
    "collapsed": false
   },
   "outputs": [],
   "source": [
    "# I load 101 pages for testing\n",
    "list_of_files=glob.glob('./cdips_dell_test/*.txt')\n",
    "#each page is cleaned to be a huge string, by lnyx in bash. Put all the strings in a list\n",
    "allwords=[]\n",
    "for i in range(len(list_of_files)):\n",
    "    file=open(list_of_files[i],'r')\n",
    "    raw=file.read().strip('\\n')\n",
    "    allwords.append(raw)\n"
   ]
  },
  {
   "cell_type": "code",
   "execution_count": 5,
   "metadata": {
    "collapsed": false
   },
   "outputs": [
    {
     "name": "stdout",
     "output_type": "stream",
     "text": [
      "Total number of files is 499\n",
      "One example is\n",
      " for hours only get tremendous savings up to off shop now dell o sign in click to chat or call us shop support community search financing live chat or call available contracts coupons join dell advantage rewards price match for work laptops latitude series latitude series ultrabook tm e ajax loader gif intel core latitude series ultrabook tm e high end performance in a thin light design latitude durability and security packed into a sleek ultrabook tm featuring th gen intel core tm processors windows pro and an optional touchscreen display call for pricing gallery configurations features design ratings reviews drivers manuals support return to top chipset integrated with the cpu lynx point lp intel responsiveness technologies optional intel rapid start technology optional intel smart connect technology require mobile solid state drive graphics card intel integrated hd graphics display cm hd x anti glare led backlit connectivity gigabit ethernet wireless lan and wimax options intel dual band wireless ac ac x bluetooth dell wireless n x bluetooth wigig coming soon dell wireless g n x no bluetooth mobile broadband gps options dell wireless tm hspa mini card coming soon dell wireless tm lte mobile broadband multimedia high quality speakers stereo global headset jack integrated noise reducing array microphones optional integrated hd video webcam and dell webcam central software power watt or w ac adapter w bfr pvc free ac adapter w auto air dc adapter optional battery options cell whr lithium ion battery with expresscharge tm cell whr lithium ion battery with expresscharge tm systems management intel vpro tm technology s advanced management features optional requires intel wifi link wlan configuration services factory image load bios customization hardwar customization asset tagging and reporting recommended accessories on the go dell executive leather carrying case dell mdp to vga adapter dell ultramobile projector dell w auto air charger with power cord in the office dell e series port replicator or d wigig dock ultrasharp monitors dell wireless keyboard and mouse ports usb network connector rj hdmi mdisplayport slots docking connector full and half mini card slots optional smartcard reader contactless smartcard reader fingerprint reader or fips fingerprint reader regulatory regulatory model p s regulatory type p s energy star windows os epeat registered for specific country participation and rating please see www epeat net bfr pvc free product safety emc and environmental datasheets dell regulatory compliance home page dell and the environment features design latitude e ultrabook elite durable design windows pro elite durable design get down to business with an ultrabook tm that features a display with optional touchscreen functionality and a beautiful design the thin mm and lightweight starting at lbs kg with a cell battery latitude comes standard with sleek durable aluminum soft touch finishes and a powder coated base underneath the surface is a tri metal tm chassis designed to survive challenging physical environments and mil std g testing along with windows come optional touchscreen capability and a carbon fiber backed display with edge to edge corning gorilla glass nbt tm return to top latitude e ultrabook innovative wireless capabilities innovative wireless capabilities wirelessly connect your latitude to compatible mouse monitor keyboard and conference room equipment with wigig docking technology and if you have traditional e family docking stations in your office the latitude is compatible with those too the latitude series also features intel wireless display widi technology allowing everything on your laptop screen to be viewed simultaneously on a widi enabled television or projector wigig docking feature is available only in select countries please contact your local sales representative for more details return to top packed with performance low voltage th gen intel core tm i and i processor options along with windows pro allow you to work on big jobs with ease count on fast reliable performance from your choice of ssd or solid state hybrid drives collaborate effectively with an integrated hd webcam and microphone array a backlit keyboard lets you work in low light environments while a swappable battery keeps you powered up on the go latitude e ultrabook packed with performance return to top the most secure business ultrabook tm latitude guards your data with industry leading endpoint security solutions that include comprehensive encryption strong authentication and leading edge malware prevention protect data on any device across external media and in the cloud with dell data protection encryption ddp e is available factory installed for automatic deployment and integrates seamlessly with your existing processes ensure only authorized users have access to your data with authentication options including fips certified smart card and fingerprint readers and contact less smart card reader dell data protection security tools enables multifactor single sign on and preboot authentication along with centralized integrated management with your encryption policies using the dell data protection remote management console a fips certified tpm is available for secure credential storage and dell controlvault adds another layer of hardware security by isolating user passwords and credentials on a separately controlled hardware chip stop advanced malware in its tracks with dell data protection protected workspace delete data remotely with dell s custom intel vpro tm extension for remote hard drive wipe return to top latitude e ultrabook the most manageable business ultrabook the most manageable business ultrabook tm easily manage your entire latitude fleet with exceptional integrated management capabilities and options remotely manage and update your latitude ultrabook tm fleet with optional next generation intel vpro tm technology update once and update everywhere with dell unique intel vpro extensions for remote bios management and hard drive wipe even when they re powered off save time and eliminate guesswork with dell automated tools and utilities for deploying monitoring and updating systems centralize and automate laptop management with best in class integration into microsoft system center and dell kace appliances create a standardized environment and simplify deployments with long lifecycles dell configuration and deployment services and dell imaging services return to top latitude e ultrabook dell executive leather attach laptop carrying case dell executive leather attach laptop carrying case designed for laptops with up to screens this premium leather case offers convenient storage and protection latitude e ultrabook dell mini display port to vga adapter dell mini display port to vga adapter connect a vga monitor or projector to the mini display port on your dell system dell m hd ultramobile projector dell m hd ultramobile projector dazzle your audience in the conference room and beyond with the palm sized multimedia dell mobile projector m hd with bright led technology return to top upgrade to prosupport plus the only complete support that combines proactive resolution automated prevention and protection for pcs and tablets return to top support services your system comes with dell s limited hardware warranty if your system encounters an issue that is covered by the warranty that cannot be resolved remotely dell will provide a convenient way for your system to be repaired when you customize your system you will find these other support options with prosupport plus offering the most complete support service prosupport plus dell s most complete support service for pcs and tablets is the only support service that can prevent issues before they occur dell s supportassist will detect when a hard drive or battery is about to fail automatically create a case for resolution and notify the customer that the new hardware is on its way this end to end support service also includes x priority access to prosupport engineers who provide help for hardware and software challenges repair for devices that are accidentally damaged and the ability to keep a hard drive after replacement allowing you to ensure your data is stays secure when necessary dell will provide onsite support to ensure repairs are done quickly and conveniently prosupport plus provides all the support essentials that will reduce downtime automatically return to top dell prosupport provides direct access to prosupport engineers who provide help for hardware and software challenges x plus dell supportassist technology remotely monitors pcs and tablets provides notifications for issues that arise and automatically creates a case to resolve them when necessary dell will provide onsite support to ensure repairs are done quickly and conveniently accidents happen and with dell s accidental damage service you can reduce the downtime we ll repair a laptop damaged by an electrical surge liquid spill or drop return to top ratings reviews drivers manuals support chat dell chat you ve got questions we ve got experts who can help find out now chat online return to top do more with dell employee and student discounts partnerdirect the power to do more dell outlet techcenter make a payment about dell investors company information corporate social responsibility customer engagement careers newsroom legal ads emails privacy statement legal regulatory terms of sale trademarks community the dell community read our blog support forums events dell terms of sale unresolved issues privacy ads emails contact site map feedback ultrabook celeron celeron inside core inside intel intel logo intel atom intel atom inside intel core intel inside intel inside logo intel vpro itanium itanium inside pentium pentium inside vpro inside xeon xeon phi and xeon inside are trademarks of intel corporation in the u s and or other countries rewards are provided in the form of a promotional code back in rewards valid only on purchases using dell business credit dbc and dell advantage loyalty program back in rewards valid on all other dell advantage purchases bose products only eligible for rewards with dell advantage second business day shipping not available on tvs or larger and dell branded monitors rewards arrive separately from purchase typically in days from ship date via email expires in days except where prohibited by law any balance remaining on your purchase after dell advantage rewards are applied may not be paid with dbc and instead a separate form of payment must be used refurbished and or used purchases do not qualify for rewards terms and conditions apply dell com rewardterms dell business credit offer varies by creditworthiness as determined by lender offered by webbank to small and medium business customers with approved credit taxes shipping and other charges are extra and vary minimum monthly payments are the greater of or of account balance you can only compare up to products to compare this item uncheck one of the other products close p cs \n"
     ]
    }
   ],
   "source": [
    "#an example of the words from a page\n",
    "print(\"Total number of files is {}\".format(len(allwords)))\n",
    "print(\"One example is\")\n",
    "print(allwords[6])"
   ]
  },
  {
   "cell_type": "code",
   "execution_count": 6,
   "metadata": {
    "collapsed": false
   },
   "outputs": [
    {
     "data": {
      "text/plain": [
       "['i',\n",
       " 'me',\n",
       " 'my',\n",
       " 'myself',\n",
       " 'we',\n",
       " 'our',\n",
       " 'ours',\n",
       " 'ourselves',\n",
       " 'you',\n",
       " 'your',\n",
       " 'yours',\n",
       " 'yourself',\n",
       " 'yourselves',\n",
       " 'he',\n",
       " 'him',\n",
       " 'his',\n",
       " 'himself',\n",
       " 'she',\n",
       " 'her',\n",
       " 'hers',\n",
       " 'herself',\n",
       " 'it',\n",
       " 'its',\n",
       " 'itself',\n",
       " 'they',\n",
       " 'them',\n",
       " 'their',\n",
       " 'theirs',\n",
       " 'themselves',\n",
       " 'what',\n",
       " 'which',\n",
       " 'who',\n",
       " 'whom',\n",
       " 'this',\n",
       " 'that',\n",
       " 'these',\n",
       " 'those',\n",
       " 'am',\n",
       " 'is',\n",
       " 'are',\n",
       " 'was',\n",
       " 'were',\n",
       " 'be',\n",
       " 'been',\n",
       " 'being',\n",
       " 'have',\n",
       " 'has',\n",
       " 'had',\n",
       " 'having',\n",
       " 'do',\n",
       " 'does',\n",
       " 'did',\n",
       " 'doing',\n",
       " 'a',\n",
       " 'an',\n",
       " 'the',\n",
       " 'and',\n",
       " 'but',\n",
       " 'if',\n",
       " 'or',\n",
       " 'because',\n",
       " 'as',\n",
       " 'until',\n",
       " 'while',\n",
       " 'of',\n",
       " 'at',\n",
       " 'by',\n",
       " 'for',\n",
       " 'with',\n",
       " 'about',\n",
       " 'against',\n",
       " 'between',\n",
       " 'into',\n",
       " 'through',\n",
       " 'during',\n",
       " 'before',\n",
       " 'after',\n",
       " 'above',\n",
       " 'below',\n",
       " 'to',\n",
       " 'from',\n",
       " 'up',\n",
       " 'down',\n",
       " 'in',\n",
       " 'out',\n",
       " 'on',\n",
       " 'off',\n",
       " 'over',\n",
       " 'under',\n",
       " 'again',\n",
       " 'further',\n",
       " 'then',\n",
       " 'once',\n",
       " 'here',\n",
       " 'there',\n",
       " 'when',\n",
       " 'where',\n",
       " 'why',\n",
       " 'how',\n",
       " 'all',\n",
       " 'any',\n",
       " 'both',\n",
       " 'each',\n",
       " 'few',\n",
       " 'more',\n",
       " 'most',\n",
       " 'other',\n",
       " 'some',\n",
       " 'such',\n",
       " 'no',\n",
       " 'nor',\n",
       " 'not',\n",
       " 'only',\n",
       " 'own',\n",
       " 'same',\n",
       " 'so',\n",
       " 'than',\n",
       " 'too',\n",
       " 'very',\n",
       " 's',\n",
       " 't',\n",
       " 'can',\n",
       " 'will',\n",
       " 'just',\n",
       " 'don',\n",
       " 'should',\n",
       " 'now',\n",
       " 'd',\n",
       " 'll',\n",
       " 'm',\n",
       " 'o',\n",
       " 're',\n",
       " 've',\n",
       " 'y',\n",
       " 'ain',\n",
       " 'aren',\n",
       " 'couldn',\n",
       " 'didn',\n",
       " 'doesn',\n",
       " 'hadn',\n",
       " 'hasn',\n",
       " 'haven',\n",
       " 'isn',\n",
       " 'ma',\n",
       " 'mightn',\n",
       " 'mustn',\n",
       " 'needn',\n",
       " 'shan',\n",
       " 'shouldn',\n",
       " 'wasn',\n",
       " 'weren',\n",
       " 'won',\n",
       " 'wouldn',\n",
       " 'dell']"
      ]
     },
     "execution_count": 6,
     "metadata": {},
     "output_type": "execute_result"
    }
   ],
   "source": [
    "#load the stop words, and add word 'dell' to the list, show what is in the stop words.\n",
    "stops=stopwords.words(\"english\")\n",
    "stops.append('dell')\n",
    "stops"
   ]
  },
  {
   "cell_type": "code",
   "execution_count": 7,
   "metadata": {
    "collapsed": true
   },
   "outputs": [],
   "source": [
    "#load the bag_of_words method from sklearn, set the features to be 200, and get the word features \n",
    "#by calling the fit_transform method\n",
    "from sklearn.feature_extraction.text import CountVectorizer\n",
    "\n",
    "vectorizer = CountVectorizer(analyzer='word',stop_words=stops, max_features= 200)\n",
    "words_features = vectorizer.fit_transform(allwords)"
   ]
  },
  {
   "cell_type": "code",
   "execution_count": 8,
   "metadata": {
    "collapsed": false
   },
   "outputs": [
    {
     "data": {
      "text/plain": [
       "(499, 200)"
      ]
     },
     "execution_count": 8,
     "metadata": {},
     "output_type": "execute_result"
    }
   ],
   "source": [
    "#show the dimension of the words features, a 2D array, each row coresponds to each page.\n",
    "# columns are the most popular words frequency \n",
    "words_features=words_features.toarray()\n",
    "words_features.shape"
   ]
  },
  {
   "cell_type": "code",
   "execution_count": 9,
   "metadata": {
    "collapsed": false
   },
   "outputs": [
    {
     "name": "stdout",
     "output_type": "stream",
     "text": [
      "access 884\n",
      "accessories 606\n",
      "add 1103\n",
      "ads 884\n",
      "advantage 2506\n",
      "apply 1333\n",
      "atom 895\n",
      "available 1734\n",
      "back 2909\n",
      "balance 720\n",
      "battery 782\n",
      "bit 866\n",
      "business 4724\n",
      "buy 921\n",
      "call 1000\n",
      "card 1355\n",
      "cart 757\n",
      "celeron 961\n",
      "chat 1413\n",
      "choose 1921\n",
      "click 638\n",
      "cm 618\n",
      "code 1164\n",
      "com 968\n",
      "community 1355\n",
      "contact 732\n",
      "core 3120\n",
      "credit 2579\n",
      "customer 772\n",
      "customers 573\n",
      "customize 883\n",
      "data 1807\n",
      "date 570\n",
      "day 1259\n",
      "days 1487\n",
      "dbc 698\n",
      "ddr 560\n",
      "design 647\n",
      "desktop 1082\n",
      "display 755\n",
      "double 605\n",
      "drive 2406\n",
      "drives 597\n",
      "dual 1044\n",
      "email 676\n",
      "emails 887\n",
      "energy 595\n",
      "english 900\n",
      "enterprise 553\n",
      "environment 729\n",
      "environmental 637\n",
      "except 591\n",
      "factor 763\n",
      "features 869\n",
      "financing 1554\n",
      "fips 648\n",
      "form 1582\n",
      "free 2001\n",
      "full 844\n",
      "gb 4152\n",
      "gen 552\n",
      "generation 770\n",
      "get 2809\n",
      "ghz 613\n",
      "gif 574\n",
      "graphics 807\n",
      "hard 1585\n",
      "hardware 981\n",
      "hd 841\n",
      "height 913\n",
      "help 2076\n",
      "high 677\n",
      "home 1215\n",
      "includes 763\n",
      "information 741\n",
      "inside 4025\n",
      "inspiron 1153\n",
      "integrated 698\n",
      "intel 6862\n",
      "internal 611\n",
      "issues 619\n",
      "itanium 878\n",
      "keyboard 786\n",
      "kg 641\n",
      "laptop 789\n",
      "latitude 812\n",
      "law 601\n",
      "lbs 620\n",
      "learn 723\n",
      "legal 898\n",
      "logo 1428\n",
      "low 913\n",
      "make 606\n",
      "management 1635\n",
      "may 625\n",
      "md 827\n",
      "member 803\n",
      "memory 1828\n",
      "microsoft 687\n",
      "mm 1320\n",
      "mo 744\n",
      "monthly 692\n",
      "nd 717\n",
      "network 989\n",
      "networking 691\n",
      "new 1619\n",
      "offers 776\n",
      "one 981\n",
      "operating 626\n",
      "optional 1611\n",
      "options 1276\n",
      "optiplex 878\n",
      "order 796\n",
      "page 617\n",
      "payment 957\n",
      "pcie 649\n",
      "pdf 859\n",
      "pentium 1023\n",
      "per 629\n",
      "performance 1520\n",
      "plus 632\n",
      "port 878\n",
      "ports 822\n",
      "power 1658\n",
      "poweredge 1176\n",
      "powervault 553\n",
      "precision 837\n",
      "premier 763\n",
      "price 1994\n",
      "privacy 911\n",
      "pro 1058\n",
      "processor 1723\n",
      "product 1126\n",
      "products 1314\n",
      "professional 1125\n",
      "promotional 573\n",
      "prosupport 761\n",
      "purchase 1095\n",
      "purchases 2015\n",
      "read 717\n",
      "reader 832\n",
      "register 604\n",
      "regulatory 1336\n",
      "remote 707\n",
      "return 1564\n",
      "rewards 5543\n",
      "sale 1006\n",
      "savings 1075\n",
      "security 910\n",
      "see 554\n",
      "separately 613\n",
      "series 1941\n",
      "server 1145\n",
      "servers 727\n",
      "service 1271\n",
      "services 1203\n",
      "ship 594\n",
      "shipping 1552\n",
      "ships 719\n",
      "shop 1039\n",
      "sign 603\n",
      "site 659\n",
      "small 1211\n",
      "smart 762\n",
      "software 1070\n",
      "solutions 941\n",
      "ssd 557\n",
      "starting 1451\n",
      "statement 766\n",
      "storage 2315\n",
      "support 3236\n",
      "system 1154\n",
      "systems 595\n",
      "tb 943\n",
      "technology 596\n",
      "terms 1679\n",
      "th 1035\n",
      "time 568\n",
      "tm 2587\n",
      "top 1596\n",
      "total 785\n",
      "touch 994\n",
      "trademarks 1286\n",
      "us 1013\n",
      "usb 1227\n",
      "used 840\n",
      "using 1239\n",
      "valid 753\n",
      "via 629\n",
      "view 574\n",
      "vpro 990\n",
      "warranty 676\n",
      "weight 589\n",
      "windows 3187\n",
      "wireless 1032\n",
      "work 568\n",
      "wyse 729\n",
      "xeon 1620\n",
      "xps 571\n",
      "year 780\n"
     ]
    }
   ],
   "source": [
    "#show the feature words and their counts\n",
    "key_words = vectorizer.get_feature_names()\n",
    "words_count=np.sum(words_features,axis=0)\n",
    "\n",
    "for tag, count in zip(key_words,words_count):\n",
    "    print(tag, count)"
   ]
  },
  {
   "cell_type": "code",
   "execution_count": 8,
   "metadata": {
    "collapsed": true
   },
   "outputs": [],
   "source": [
    "#initialize the kmeans clustering methods, and cluster the words_features to 5 classes \n",
    "#kmeans_clustering=KMeans(n_clusters=6,n_jobs=-1, random_state=14)\n",
    "#prediction_clusters=kmeans_clustering.fit_predict(words_features)"
   ]
  },
  {
   "cell_type": "code",
   "execution_count": 10,
   "metadata": {
    "collapsed": true
   },
   "outputs": [],
   "source": [
    "# find the optimal number of clusters by plotting the .inertia_: \n",
    "#Sum of distances of samples to their closest cluster center.\n",
    "\n",
    "distortions = []\n",
    "prediction_clusters=[]\n",
    "for i in range (1, 30):\n",
    "    km_clustering=KMeans(n_clusters=i, \n",
    "                         n_jobs=-1, n_init=50, random_state=14)\n",
    "    prediction_cluster = km_clustering.fit_predict(words_features)\n",
    "    distortions.append(km_clustering.inertia_)\n",
    "    prediction_clusters.append(prediction_cluster)\n"
   ]
  },
  {
   "cell_type": "code",
   "execution_count": 11,
   "metadata": {
    "collapsed": false
   },
   "outputs": [
    {
     "data": {
      "image/png": "[encoded data removed]",
      "text/plain": [
       "<matplotlib.figure.Figure at 0x11810f7f0>"
      ]
     },
     "metadata": {},
     "output_type": "display_data"
    }
   ],
   "source": [
    "distortions=np.array(distortions)\n",
    "plt.plot(range(1,30),distortions*(1/len(allwords)), marker='o')\n",
    "plt.xlabel('Number of clusters')\n",
    "plt.ylabel('Normalized Distortion')\n",
    "#plt.yscale('log')\n",
    "#plt.ylim(1e+5,1e+8)\n",
    "plt.show()\n"
   ]
  },
  {
   "cell_type": "code",
   "execution_count": 12,
   "metadata": {
    "collapsed": false,
    "scrolled": true
   },
   "outputs": [
    {
     "data": {
      "image/png": "[encoded data removed]",
      "text/plain": [
       "<matplotlib.figure.Figure at 0x118151e10>"
      ]
     },
     "metadata": {},
     "output_type": "display_data"
    }
   ],
   "source": [
    "plt.scatter(range(1,len(prediction_clusters[25])+1),prediction_clusters[25],)\n",
    "plt.ylim(-1,26)\n",
    "plt.xlabel('webpage index')\n",
    "plt.ylabel('cluster numbers')\n",
    "plt.show()"
   ]
  },
  {
   "cell_type": "code",
   "execution_count": 13,
   "metadata": {
    "collapsed": false
   },
   "outputs": [],
   "source": [
    "tmp=prediction_clusters[25]\n",
    "fileindex=[]\n",
    "clusterfilename=[]\n",
    "for i in range (max(tmp)+1):\n",
    "    tmp2=[]\n",
    "    for j,k in enumerate(tmp):\n",
    "        if k==i:\n",
    "            tmp2.append(j)\n",
    "    fileindex.append(tmp2)\n",
    "    clusterfilename.append([list_of_files[x][-12:-6] for x in fileindex[i]])"
   ]
  },
  {
   "cell_type": "code",
   "execution_count": 15,
   "metadata": {
    "collapsed": false,
    "scrolled": true
   },
   "outputs": [
    {
     "name": "stdout",
     "output_type": "stream",
     "text": [
      "cluster0 files ['000051', '000499', '000852', '001522', '001961', '002077', '002316', '002455', '003354', '004145', '004261', '004271', '004401', '004436', '004613', '004634', '004653', '004670', '004732', '004812', '004908', '004930', '005059', '005381', '005730', '006212', '006456', '006467', '006600', '006828', '006931', '007212', '007265', '007350', '007407', '007632', '007716', '007884', '007931', '008324', '008490', '008545', '008735', '008978', '009003', '009007', '009047', '009258', '009265', '009363', '009449', '009535', '009585', '009601', '009769', '010098', '010192', '010241', '010292', '010324', '010431', '010797', '010865', '010877', '010939', '010942', '011348', '011369', '011688', '011713', '011818', '012199', '012283', '012624', '012742', '012745', '012952', '013156', '013202', '013503', '013624', '013679', '013776', '013804', '013806', '014332', '014846', '015244', '015405', '015542', '015655', '015660', '015828', '016110', '016111', '016570', '016938', '017044', '017106', '017154', '017695', '017746', '017900', '018123', '018287', '018350', '018535', '018595', '019040', '019155', '019228', '019447', '019698', '019706', '019736', '019995', '020059', '020069', '020278', '020624', '020668', '020686', '020695', '020703', '021273', '021481', '021946', '022718', '023104', '023213', '023274', '023558', '023578', '023688', '023799', '023872', '023935', '024179', '024670', '024684', '024826', '024885', '025041', '025485', '025667', '025983', '026007', '026352', '026474', '026511', '026828', '026862', '026871', '027092', '027438', '028101', '028253', '028264', '028298', '028713', '029882', '029909', '029946', '030152', '030416', '030702', '030761', '031071', '031295', '031584', '031682', '031699', '031977', '032031', '032054', '032143', '032187', '032199', '032706', '032759', '032788', '032859', '033166', '033267', '033276', '033322', '033630', '033932', '034175', '034253', '034628', '034792', '035102', '035503', '035717', '035784', '035984', '036028', '036207', '037077', '037090', '037329', '037740', '038138', '038187', '038251', '038323', '038533', '038727', '038873', '038910', '039267', '039391', '039504', '039676', '040081', '040148', '040170', '040291', '040575', '040577', '040925', '041116', '041128', '041285', '041591', '041736', '041841', '041929', '041992', '042021', '042049', '042124', '042217', '042430', '042432', '042453', '042486', '042797', '042810', '043047', '043100', '043592', '044130', '044679']\n",
      "cluster25 files ['000087', '000206', '000720', '000801', '001652', '001869', '002139', '002380', '002636', '002645', '002951', '003776', '003819', '003943', '004094', '004842', '005700', '006572', '006635', '007715', '008354', '008911', '009368', '009619', '010141', '011479', '011568', '011668', '012790', '012919', '013101', '013588', '013862', '014108', '015279', '015354', '016796', '017078', '017467', '017630', '018139', '018284', '019689', '022083', '022090', '022616', '022875', '025531', '025543', '026647', '027582', '027743', '029236', '032594', '033446', '036040', '037548', '037795', '037867', '038000', '038080', '038149', '038446', '038462', '038594', '039516', '042538', '043232', '043972', '044477']\n"
     ]
    }
   ],
   "source": [
    "#cluster=[list_of_files[x][-12:-6] for x in fileindex]\n",
    "print(\"cluster0 files {}\".format(clusterfilename[0]))\n",
    "\n",
    "print(\"cluster25 files {}\".format(clusterfilename[25]))"
   ]
  },
  {
   "cell_type": "code",
   "execution_count": 16,
   "metadata": {
    "collapsed": false
   },
   "outputs": [
    {
     "data": {
      "image/png": "[encoded data removed]",
      "text/plain": [
       "<matplotlib.figure.Figure at 0x10af805c0>"
      ]
     },
     "metadata": {},
     "output_type": "display_data"
    }
   ],
   "source": [
    "plt.bar(range(max(tmp)+1),height=[len(x) for x in fileindex],align='center')\n",
    "#plt.yscale('log')\n",
    "plt.xlabel('#cluster')\n",
    "plt.ylabel('counts')\n",
    "plt.show()"
   ]
  },
  {
   "cell_type": "code",
   "execution_count": null,
   "metadata": {
    "collapsed": true
   },
   "outputs": [],
   "source": []
  }
 ],
 "metadata": {
  "kernelspec": {
   "display_name": "Python 3",
   "language": "python",
   "name": "python3"
  },
  "language_info": {
   "codemirror_mode": {
    "name": "ipython",
    "version": 3
   },
   "file_extension": ".py",
   "mimetype": "text/x-python",
   "name": "python",
   "nbconvert_exporter": "python",
   "pygments_lexer": "ipython3",
   "version": "3.5.1"
  }
 },
 "nbformat": 4,
 "nbformat_minor": 0
}
