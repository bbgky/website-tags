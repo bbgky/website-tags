{
 "cells": [
  {
   "cell_type": "code",
   "execution_count": 11,
   "metadata": {
    "collapsed": true
   },
   "outputs": [],
   "source": [
    "import pandas as pd\n",
    "import numpy as np\n",
    "import os.path\n",
    "import glob\n",
    "from sklearn.ensemble import RandomForestClassifier\n",
    "from sklearn.cross_validation import cross_val_score\n",
    "from sklearn.feature_extraction.text import CountVectorizer, TfidfVectorizer, TfidfTransformer\n",
    "from nltk.corpus import stopwords\n",
    "from nltk.stem.porter import PorterStemmer"
   ]
  },
  {
   "cell_type": "code",
   "execution_count": 18,
   "metadata": {
    "collapsed": false
   },
   "outputs": [
    {
     "data": {
      "text/html": [
       "<div>\n",
       "<table border=\"1\" class=\"dataframe\">\n",
       "  <thead>\n",
       "    <tr style=\"text-align: right;\">\n",
       "      <th></th>\n",
       "      <th>webpageID</th>\n",
       "      <th>og:type</th>\n",
       "      <th>pagetype</th>\n",
       "      <th>salestype</th>\n",
       "      <th>country</th>\n",
       "      <th>language</th>\n",
       "      <th>og:type_salestype</th>\n",
       "      <th>label</th>\n",
       "      <th>word</th>\n",
       "    </tr>\n",
       "  </thead>\n",
       "  <tbody>\n",
       "    <tr>\n",
       "      <th>0</th>\n",
       "      <td>000051_</td>\n",
       "      <td>category</td>\n",
       "      <td>category</td>\n",
       "      <td>config_category</td>\n",
       "      <td>us</td>\n",
       "      <td>en</td>\n",
       "      <td>category_config_category</td>\n",
       "      <td>0</td>\n",
       "      <td>for hours only get tremendous savings up to o...</td>\n",
       "    </tr>\n",
       "    <tr>\n",
       "      <th>1</th>\n",
       "      <td>000075_</td>\n",
       "      <td>product</td>\n",
       "      <td>product</td>\n",
       "      <td>franchise</td>\n",
       "      <td>us</td>\n",
       "      <td>en</td>\n",
       "      <td>product_franchise</td>\n",
       "      <td>1</td>\n",
       "      <td>for hours only get tremendous savings up to o...</td>\n",
       "    </tr>\n",
       "    <tr>\n",
       "      <th>2</th>\n",
       "      <td>000087_</td>\n",
       "      <td>category</td>\n",
       "      <td>category</td>\n",
       "      <td>parent_product_category</td>\n",
       "      <td>us</td>\n",
       "      <td>en</td>\n",
       "      <td>category_parent_product_category</td>\n",
       "      <td>2</td>\n",
       "      <td>dell o sign in click to chat or call us shop ...</td>\n",
       "    </tr>\n",
       "    <tr>\n",
       "      <th>3</th>\n",
       "      <td>000131_</td>\n",
       "      <td>product</td>\n",
       "      <td>product</td>\n",
       "      <td>franchise</td>\n",
       "      <td>us</td>\n",
       "      <td>en</td>\n",
       "      <td>product_franchise</td>\n",
       "      <td>1</td>\n",
       "      <td>for hours only get tremendous savings up to o...</td>\n",
       "    </tr>\n",
       "    <tr>\n",
       "      <th>4</th>\n",
       "      <td>000154_</td>\n",
       "      <td>product</td>\n",
       "      <td>product</td>\n",
       "      <td>franchise</td>\n",
       "      <td>us</td>\n",
       "      <td>en</td>\n",
       "      <td>product_franchise</td>\n",
       "      <td>1</td>\n",
       "      <td>dell o sign in click to chat or call us shop ...</td>\n",
       "    </tr>\n",
       "  </tbody>\n",
       "</table>\n",
       "</div>"
      ],
      "text/plain": [
       "  webpageID   og:type  pagetype                salestype country language  \\\n",
       "0   000051_  category  category          config_category      us       en   \n",
       "1   000075_   product   product                franchise      us       en   \n",
       "2   000087_  category  category  parent_product_category      us       en   \n",
       "3   000131_   product   product                franchise      us       en   \n",
       "4   000154_   product   product                franchise      us       en   \n",
       "\n",
       "                  og:type_salestype  label  \\\n",
       "0          category_config_category      0   \n",
       "1                 product_franchise      1   \n",
       "2  category_parent_product_category      2   \n",
       "3                 product_franchise      1   \n",
       "4                 product_franchise      1   \n",
       "\n",
       "                                                word  \n",
       "0   for hours only get tremendous savings up to o...  \n",
       "1   for hours only get tremendous savings up to o...  \n",
       "2   dell o sign in click to chat or call us shop ...  \n",
       "3   for hours only get tremendous savings up to o...  \n",
       "4   dell o sign in click to chat or call us shop ...  "
      ]
     },
     "execution_count": 18,
     "metadata": {},
     "output_type": "execute_result"
    }
   ],
   "source": [
    "list_of_files=glob.glob('./cdips_dell_test/*.txt')\n",
    "df=pd.read_csv('featuretable.csv')\n",
    "for i in range(len(list_of_files)):\n",
    "    word=open(list_of_files[i],'r').read().strip('\\n')\n",
    "    df.loc[df.loc[:,'webpageID']==os.path.basename(list_of_files[i])[:7],'word']=word\n",
    "\n",
    "\n",
    "df=df.fillna(' ')\n",
    "df.head()\n"
   ]
  },
  {
   "cell_type": "code",
   "execution_count": 23,
   "metadata": {
    "collapsed": false
   },
   "outputs": [],
   "source": [
    "X_train=df.loc[:,'word']\n",
    "y_train=df.loc[:,'label'].astype(int)"
   ]
  },
  {
   "cell_type": "code",
   "execution_count": 26,
   "metadata": {
    "collapsed": false
   },
   "outputs": [],
   "source": [
    "stops=stopwords.words(\"english\")\n",
    "stops.append('dell')\n",
    "\n",
    "porter= PorterStemmer()\n",
    "def tokenizer_porter(text):\n",
    "    return [porter.stem(word) for word in text.split()]\n",
    "\n",
    "vectorizer = TfidfVectorizer(analyzer='word',stop_words=stops,use_idf=True,\\\n",
    "                             tokenizer=tokenizer_porter, max_features= 200)\n",
    "words_features = vectorizer.fit_transform(X_train)"
   ]
  },
  {
   "cell_type": "code",
   "execution_count": 27,
   "metadata": {
    "collapsed": false
   },
   "outputs": [
    {
     "data": {
      "text/plain": [
       "(499, 200)"
      ]
     },
     "execution_count": 27,
     "metadata": {},
     "output_type": "execute_result"
    }
   ],
   "source": [
    "words_features=words_features.toarray()\n",
    "words_features.shape"
   ]
  },
  {
   "cell_type": "code",
   "execution_count": 29,
   "metadata": {
    "collapsed": false
   },
   "outputs": [],
   "source": [
    "key_words = vectorizer.get_feature_names()\n",
    "words_count=np.sum(words_features,axis=0)"
   ]
  },
  {
   "cell_type": "code",
   "execution_count": 42,
   "metadata": {
    "collapsed": false
   },
   "outputs": [
    {
     "name": "stderr",
     "output_type": "stream",
     "text": [
      "/Users/Meng/anaconda/lib/python3.5/site-packages/sklearn/cross_validation.py:516: Warning: The least populated class in y has only 1 members, which is too few. The minimum number of labels for any class cannot be less than n_folds=10.\n",
      "  % (min_labels, self.n_folds)), Warning)\n",
      "/Users/Meng/anaconda/lib/python3.5/site-packages/sklearn/cross_validation.py:516: Warning: The least populated class in y has only 1 members, which is too few. The minimum number of labels for any class cannot be less than n_folds=10.\n",
      "  % (min_labels, self.n_folds)), Warning)\n",
      "/Users/Meng/anaconda/lib/python3.5/site-packages/sklearn/cross_validation.py:516: Warning: The least populated class in y has only 1 members, which is too few. The minimum number of labels for any class cannot be less than n_folds=10.\n",
      "  % (min_labels, self.n_folds)), Warning)\n",
      "/Users/Meng/anaconda/lib/python3.5/site-packages/sklearn/cross_validation.py:516: Warning: The least populated class in y has only 1 members, which is too few. The minimum number of labels for any class cannot be less than n_folds=10.\n",
      "  % (min_labels, self.n_folds)), Warning)\n",
      "/Users/Meng/anaconda/lib/python3.5/site-packages/sklearn/cross_validation.py:516: Warning: The least populated class in y has only 1 members, which is too few. The minimum number of labels for any class cannot be less than n_folds=10.\n",
      "  % (min_labels, self.n_folds)), Warning)\n",
      "/Users/Meng/anaconda/lib/python3.5/site-packages/sklearn/cross_validation.py:516: Warning: The least populated class in y has only 1 members, which is too few. The minimum number of labels for any class cannot be less than n_folds=10.\n",
      "  % (min_labels, self.n_folds)), Warning)\n",
      "/Users/Meng/anaconda/lib/python3.5/site-packages/sklearn/cross_validation.py:516: Warning: The least populated class in y has only 1 members, which is too few. The minimum number of labels for any class cannot be less than n_folds=10.\n",
      "  % (min_labels, self.n_folds)), Warning)\n",
      "/Users/Meng/anaconda/lib/python3.5/site-packages/sklearn/cross_validation.py:516: Warning: The least populated class in y has only 1 members, which is too few. The minimum number of labels for any class cannot be less than n_folds=10.\n",
      "  % (min_labels, self.n_folds)), Warning)\n",
      "/Users/Meng/anaconda/lib/python3.5/site-packages/sklearn/cross_validation.py:516: Warning: The least populated class in y has only 1 members, which is too few. The minimum number of labels for any class cannot be less than n_folds=10.\n",
      "  % (min_labels, self.n_folds)), Warning)\n"
     ]
    }
   ],
   "source": [
    "scores=[]\n",
    "scores_std=[]\n",
    "N_trees=[5,10,20,30,40,50,100,150,200]\n",
    "for n_tree in N_trees:\n",
    "    randomforest=RandomForestClassifier(n_estimators=n_tree,n_jobs=-1)\n",
    "    score=cross_val_score(estimator=randomforest,X=words_features,y=y_train,cv=10,n_jobs=-1)\n",
    "    scores.append(np.mean(score))\n",
    "    scores_std.append(np.std(score))"
   ]
  },
  {
   "cell_type": "code",
   "execution_count": 36,
   "metadata": {
    "collapsed": false
   },
   "outputs": [],
   "source": [
    "import matplotlib.pyplot as plt\n",
    "%matplotlib inline"
   ]
  },
  {
   "cell_type": "code",
   "execution_count": 45,
   "metadata": {
    "collapsed": false
   },
   "outputs": [
    {
     "data": {
      "image/png": "[encoded data removed]",
      "text/plain": [
       "<matplotlib.figure.Figure at 0x11bd6c400>"
      ]
     },
     "metadata": {},
     "output_type": "display_data"
    }
   ],
   "source": [
    "scores=np.array(scores)\n",
    "scores_std=np.array(scores_std)\n",
    "plt.plot(N_trees,scores,color='blue',marker='o',markersize='5')\n",
    "plt.fill_between(N_trees,scores+scores_std,scores-scores_std,alpha=0.15,color='blue')\n",
    "plt.xlabel('Number of trees')\n",
    "plt.ylabel('Accuracy')\n",
    "plt.ylim([0.8,1.0])\n",
    "plt.show()"
   ]
  },
  {
   "cell_type": "code",
   "execution_count": null,
   "metadata": {
    "collapsed": true
   },
   "outputs": [],
   "source": []
  }
 ],
 "metadata": {
  "kernelspec": {
   "display_name": "Python 3",
   "language": "python",
   "name": "python3"
  },
  "language_info": {
   "codemirror_mode": {
    "name": "ipython",
    "version": 3
   },
   "file_extension": ".py",
   "mimetype": "text/x-python",
   "name": "python",
   "nbconvert_exporter": "python",
   "pygments_lexer": "ipython3",
   "version": "3.5.1"
  }
 },
 "nbformat": 4,
 "nbformat_minor": 0
}
