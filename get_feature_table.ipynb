{
 "cells": [
  {
   "cell_type": "code",
   "execution_count": 1,
   "metadata": {
    "collapsed": true
   },
   "outputs": [],
   "source": [
    "import pandas as pd\n",
    "import numpy as np\n",
    "import glob\n",
    "import os.path\n",
    "import matplotlib.pyplot as plt\n",
    "%matplotlib inline\n",
    "from sklearn.feature_extraction.text import CountVectorizer, TfidfVectorizer, TfidfTransformer\n",
    "from nltk.corpus import stopwords\n",
    "from nltk.stem.porter import PorterStemmer"
   ]
  },
  {
   "cell_type": "code",
   "execution_count": 2,
   "metadata": {
    "collapsed": false
   },
   "outputs": [
    {
     "data": {
      "text/html": [
       "<div>\n",
       "<table border=\"1\" class=\"dataframe\">\n",
       "  <thead>\n",
       "    <tr style=\"text-align: right;\">\n",
       "      <th></th>\n",
       "      <th>webpageID</th>\n",
       "      <th>og:type</th>\n",
       "      <th>salestype</th>\n",
       "      <th>country</th>\n",
       "      <th>language</th>\n",
       "      <th>categorypath</th>\n",
       "    </tr>\n",
       "  </thead>\n",
       "  <tbody>\n",
       "    <tr>\n",
       "      <th>0</th>\n",
       "      <td>000004_</td>\n",
       "      <td>category</td>\n",
       "      <td>product_category</td>\n",
       "      <td>us</td>\n",
       "      <td>en</td>\n",
       "      <td>desktops</td>\n",
       "    </tr>\n",
       "    <tr>\n",
       "      <th>1</th>\n",
       "      <td>000011_</td>\n",
       "      <td>category</td>\n",
       "      <td>product_category</td>\n",
       "      <td>us</td>\n",
       "      <td>en</td>\n",
       "      <td>laptops</td>\n",
       "    </tr>\n",
       "    <tr>\n",
       "      <th>2</th>\n",
       "      <td>000018_</td>\n",
       "      <td>category</td>\n",
       "      <td>franchise</td>\n",
       "      <td>us</td>\n",
       "      <td>en</td>\n",
       "      <td>laptops</td>\n",
       "    </tr>\n",
       "    <tr>\n",
       "      <th>3</th>\n",
       "      <td>000024_</td>\n",
       "      <td>category</td>\n",
       "      <td>product_category</td>\n",
       "      <td>us</td>\n",
       "      <td>en</td>\n",
       "      <td>desktops</td>\n",
       "    </tr>\n",
       "    <tr>\n",
       "      <th>4</th>\n",
       "      <td>000036_</td>\n",
       "      <td>category</td>\n",
       "      <td>parent_product_category</td>\n",
       "      <td>us</td>\n",
       "      <td>en</td>\n",
       "      <td>all-products</td>\n",
       "    </tr>\n",
       "  </tbody>\n",
       "</table>\n",
       "</div>"
      ],
      "text/plain": [
       "  webpageID   og:type                salestype country language  categorypath\n",
       "0   000004_  category         product_category      us       en      desktops\n",
       "1   000011_  category         product_category      us       en       laptops\n",
       "2   000018_  category                franchise      us       en       laptops\n",
       "3   000024_  category         product_category      us       en      desktops\n",
       "4   000036_  category  parent_product_category      us       en  all-products"
      ]
     },
     "execution_count": 2,
     "metadata": {},
     "output_type": "execute_result"
    }
   ],
   "source": [
    "list_of_files=glob.glob('../dell_us_/tmp/*_.txt')\n",
    "columns=['webpageID','og:type','salestype','country','language',]\n",
    "\n",
    "df=pd.DataFrame(columns=columns,index=range(len(list_of_files)))\n",
    "\n",
    "dfword=pd.DataFrame(columns=['webpageID','labels'],index=range(len(list_of_files)))\n",
    "\n",
    "for i in range(len(list_of_files)):\n",
    "    dfword.loc[i,'webpageID']=df.loc[i,'webpageID']=os.path.basename(list_of_files[i])[:7]\n",
    "    word=open(list_of_files[i],'r').read().strip('\\n')\n",
    "    dfword.loc[i,'word']=word\n",
    "    \n",
    "    headerfile=list_of_files[i].split('.txt')[0]+'header.txt'\n",
    "    try:\n",
    "        f=pd.read_csv(headerfile,header=None,)\n",
    "    except ValueError:\n",
    "        continue\n",
    "    listf=[f.loc[x,0].lower().split(' ') for x in range(f.shape[0])]\n",
    "    dicf={}\n",
    "    #for j in listf:\n",
    "     #   dicf[j[0]]=j[1]\n",
    "    for j in listf:\n",
    "        try:\n",
    "            df.loc[i,j[0]]=j[1]\n",
    "        except IndexError:\n",
    "            continue\n",
    "\n",
    "    \n",
    "df.head()"
   ]
  },
  {
   "cell_type": "code",
   "execution_count": null,
   "metadata": {
    "collapsed": false
   },
   "outputs": [],
   "source": []
  },
  {
   "cell_type": "code",
   "execution_count": 3,
   "metadata": {
    "collapsed": false
   },
   "outputs": [
    {
     "name": "stdout",
     "output_type": "stream",
     "text": [
      "['all-products' 'cloud-client-computing' 'deals' 'dell-tablets' 'desktops'\n",
      " 'document_' 'enterprise-products' 'laptops' 'other-product'\n",
      " 'server-storage-solutions' 'software' 'unkowntype_']\n",
      "number of labels is 12\n"
     ]
    },
    {
     "data": {
      "image/png": "[encoded data removed]",
      "text/plain": [
       "<matplotlib.figure.Figure at 0x11ba56e80>"
      ]
     },
     "metadata": {},
     "output_type": "display_data"
    }
   ],
   "source": [
    "df=df.fillna(' ')\n",
    "#df.loc[:,'og:type_cpath']=['_'.join((i,j))for i, j in zip(df.loc[:,'og:type'],df.loc[:,'categorypath'])]\n",
    "\n",
    "#uniquelablef=df.loc[:,'og:type_cpath'].unique()\n",
    "df.loc[df.loc[:,'og:type']=='document','categorypath']='document_'\n",
    "df.loc[df.loc[:,'og:type']=='documentsearch','categorypath']='document_'\n",
    "df.loc[df.loc[:,'og:type']==' ','categorypath']='unkowntype_'\n",
    "#uniquelablef=df.loc[:,'categorypath'].unique()\n",
    "for i in range(df.shape[0]):\n",
    "    if df.loc[i,'categorypath'] not in {'document_','laptops','desktops',\n",
    "                                        'enterprise-products','unkowntype_','deals','software','dell-tablets',\n",
    "                                     'server-storage-solutions','cloud-client-computing','all-products'}:\n",
    "           df.loc[i,'categorypath']='other-product'\n",
    "    \n",
    "\n",
    "\n",
    "#print(uniquelablef)\n",
    "#print('number of labels is {}'.format(len(uniquelablef)))\n",
    "fig=plt.figure(figsize=(14,8))\n",
    "labels,labelscount = np.unique(df.loc[:,'categorypath'].values,return_counts=True)\n",
    "print(labels)\n",
    "print('number of labels is {}'.format(len(labels)))\n",
    "indices=np.argsort(labelscount)[::-1]\n",
    "plt.bar(range(len(labels)),labelscount[indices],align='center')\n",
    "plt.xticks(range(len(labels)),labels[indices],rotation=90, fontsize=14)\n",
    "plt.title('Webpage Distributions', fontsize=18)\n",
    "plt.ylabel('count', fontsize=14)\n",
    "plt.show()\n",
    "\n",
    "#for i in range(len(uniquelablef)):\n",
    "    #df.loc[df.loc[:,'og:type_cpath']==uniquelablef[i],'label']=i\n",
    "    #df.loc[df.loc[:,'categorypath']==uniquelablef[i],'label'] = int(i)\n",
    "\n",
    "#df"
   ]
  },
  {
   "cell_type": "code",
   "execution_count": 4,
   "metadata": {
    "collapsed": false
   },
   "outputs": [
    {
     "data": {
      "text/html": [
       "<div>\n",
       "<table border=\"1\" class=\"dataframe\">\n",
       "  <thead>\n",
       "    <tr style=\"text-align: right;\">\n",
       "      <th></th>\n",
       "      <th>webpageID</th>\n",
       "      <th>labels</th>\n",
       "      <th>word</th>\n",
       "    </tr>\n",
       "  </thead>\n",
       "  <tbody>\n",
       "    <tr>\n",
       "      <th>0</th>\n",
       "      <td>000004_</td>\n",
       "      <td>desktops</td>\n",
       "      <td>for hours only get tremendous savings up to o...</td>\n",
       "    </tr>\n",
       "    <tr>\n",
       "      <th>1</th>\n",
       "      <td>000011_</td>\n",
       "      <td>laptops</td>\n",
       "      <td>for hours only get tremendous savings up to o...</td>\n",
       "    </tr>\n",
       "    <tr>\n",
       "      <th>2</th>\n",
       "      <td>000018_</td>\n",
       "      <td>laptops</td>\n",
       "      <td>for hours only get tremendous savings up to o...</td>\n",
       "    </tr>\n",
       "    <tr>\n",
       "      <th>3</th>\n",
       "      <td>000024_</td>\n",
       "      <td>desktops</td>\n",
       "      <td>for hours only get tremendous savings up to o...</td>\n",
       "    </tr>\n",
       "    <tr>\n",
       "      <th>4</th>\n",
       "      <td>000036_</td>\n",
       "      <td>all-products</td>\n",
       "      <td>dell o sign in click to chat or call us shop ...</td>\n",
       "    </tr>\n",
       "  </tbody>\n",
       "</table>\n",
       "</div>"
      ],
      "text/plain": [
       "  webpageID        labels                                               word\n",
       "0   000004_      desktops   for hours only get tremendous savings up to o...\n",
       "1   000011_       laptops   for hours only get tremendous savings up to o...\n",
       "2   000018_       laptops   for hours only get tremendous savings up to o...\n",
       "3   000024_      desktops   for hours only get tremendous savings up to o...\n",
       "4   000036_  all-products   dell o sign in click to chat or call us shop ..."
      ]
     },
     "execution_count": 4,
     "metadata": {},
     "output_type": "execute_result"
    }
   ],
   "source": [
    "dfword=dfword.fillna(' ')\n",
    "dfword.loc[:,'labels']=df.loc[:,'categorypath']\n",
    "allwords=dfword.loc[:,'word']\n",
    "dfword.head()"
   ]
  },
  {
   "cell_type": "code",
   "execution_count": 5,
   "metadata": {
    "collapsed": true
   },
   "outputs": [],
   "source": [
    "\n",
    "\n",
    "stops=stopwords.words(\"english\")\n",
    "stops.append('dell')\n",
    "\n",
    "porter= PorterStemmer()\n",
    "def tokenizer_porter(text):\n",
    "    return [porter.stem(word) for word in text.split()]\n",
    "\n",
    "vectorizer = TfidfVectorizer(analyzer='word',stop_words=stops,use_idf=False,\n",
    "                             tokenizer=None, norm=None, max_features= 200)\n",
    "\n",
    "\n"
   ]
  },
  {
   "cell_type": "code",
   "execution_count": 6,
   "metadata": {
    "collapsed": true
   },
   "outputs": [],
   "source": [
    "words_features = vectorizer.fit_transform(allwords)\n",
    "words_features = words_features.toarray()\n",
    "\n",
    "key_words = vectorizer.get_feature_names()\n"
   ]
  },
  {
   "cell_type": "code",
   "execution_count": 7,
   "metadata": {
    "collapsed": false,
    "scrolled": true
   },
   "outputs": [
    {
     "data": {
      "text/html": [
       "<div>\n",
       "<table border=\"1\" class=\"dataframe\">\n",
       "  <thead>\n",
       "    <tr style=\"text-align: right;\">\n",
       "      <th></th>\n",
       "      <th>webpageID</th>\n",
       "      <th>labels</th>\n",
       "      <th>ac</th>\n",
       "      <th>access</th>\n",
       "      <th>accessories</th>\n",
       "      <th>add</th>\n",
       "      <th>ads</th>\n",
       "      <th>advantage</th>\n",
       "      <th>apply</th>\n",
       "      <th>atom</th>\n",
       "      <th>...</th>\n",
       "      <th>vpro</th>\n",
       "      <th>warranty</th>\n",
       "      <th>weight</th>\n",
       "      <th>windows</th>\n",
       "      <th>wireless</th>\n",
       "      <th>work</th>\n",
       "      <th>wyse</th>\n",
       "      <th>xeon</th>\n",
       "      <th>xps</th>\n",
       "      <th>year</th>\n",
       "    </tr>\n",
       "  </thead>\n",
       "  <tbody>\n",
       "    <tr>\n",
       "      <th>0</th>\n",
       "      <td>000004_</td>\n",
       "      <td>desktops</td>\n",
       "      <td>0.0</td>\n",
       "      <td>2.0</td>\n",
       "      <td>0.0</td>\n",
       "      <td>0.0</td>\n",
       "      <td>2.0</td>\n",
       "      <td>5.0</td>\n",
       "      <td>7.0</td>\n",
       "      <td>2.0</td>\n",
       "      <td>...</td>\n",
       "      <td>4.0</td>\n",
       "      <td>0.0</td>\n",
       "      <td>0.0</td>\n",
       "      <td>9.0</td>\n",
       "      <td>0.0</td>\n",
       "      <td>1.0</td>\n",
       "      <td>0.0</td>\n",
       "      <td>5.0</td>\n",
       "      <td>17.0</td>\n",
       "      <td>0.0</td>\n",
       "    </tr>\n",
       "    <tr>\n",
       "      <th>1</th>\n",
       "      <td>000011_</td>\n",
       "      <td>laptops</td>\n",
       "      <td>0.0</td>\n",
       "      <td>0.0</td>\n",
       "      <td>0.0</td>\n",
       "      <td>0.0</td>\n",
       "      <td>2.0</td>\n",
       "      <td>5.0</td>\n",
       "      <td>7.0</td>\n",
       "      <td>2.0</td>\n",
       "      <td>...</td>\n",
       "      <td>2.0</td>\n",
       "      <td>0.0</td>\n",
       "      <td>2.0</td>\n",
       "      <td>6.0</td>\n",
       "      <td>0.0</td>\n",
       "      <td>3.0</td>\n",
       "      <td>0.0</td>\n",
       "      <td>4.0</td>\n",
       "      <td>23.0</td>\n",
       "      <td>0.0</td>\n",
       "    </tr>\n",
       "    <tr>\n",
       "      <th>2</th>\n",
       "      <td>000018_</td>\n",
       "      <td>laptops</td>\n",
       "      <td>0.0</td>\n",
       "      <td>1.0</td>\n",
       "      <td>4.0</td>\n",
       "      <td>0.0</td>\n",
       "      <td>2.0</td>\n",
       "      <td>5.0</td>\n",
       "      <td>1.0</td>\n",
       "      <td>2.0</td>\n",
       "      <td>...</td>\n",
       "      <td>2.0</td>\n",
       "      <td>0.0</td>\n",
       "      <td>3.0</td>\n",
       "      <td>5.0</td>\n",
       "      <td>1.0</td>\n",
       "      <td>7.0</td>\n",
       "      <td>0.0</td>\n",
       "      <td>3.0</td>\n",
       "      <td>0.0</td>\n",
       "      <td>0.0</td>\n",
       "    </tr>\n",
       "    <tr>\n",
       "      <th>3</th>\n",
       "      <td>000024_</td>\n",
       "      <td>desktops</td>\n",
       "      <td>0.0</td>\n",
       "      <td>2.0</td>\n",
       "      <td>0.0</td>\n",
       "      <td>0.0</td>\n",
       "      <td>2.0</td>\n",
       "      <td>5.0</td>\n",
       "      <td>7.0</td>\n",
       "      <td>2.0</td>\n",
       "      <td>...</td>\n",
       "      <td>4.0</td>\n",
       "      <td>0.0</td>\n",
       "      <td>0.0</td>\n",
       "      <td>9.0</td>\n",
       "      <td>0.0</td>\n",
       "      <td>1.0</td>\n",
       "      <td>0.0</td>\n",
       "      <td>5.0</td>\n",
       "      <td>17.0</td>\n",
       "      <td>0.0</td>\n",
       "    </tr>\n",
       "    <tr>\n",
       "      <th>4</th>\n",
       "      <td>000036_</td>\n",
       "      <td>all-products</td>\n",
       "      <td>0.0</td>\n",
       "      <td>0.0</td>\n",
       "      <td>3.0</td>\n",
       "      <td>0.0</td>\n",
       "      <td>2.0</td>\n",
       "      <td>5.0</td>\n",
       "      <td>1.0</td>\n",
       "      <td>2.0</td>\n",
       "      <td>...</td>\n",
       "      <td>2.0</td>\n",
       "      <td>1.0</td>\n",
       "      <td>0.0</td>\n",
       "      <td>2.0</td>\n",
       "      <td>0.0</td>\n",
       "      <td>2.0</td>\n",
       "      <td>0.0</td>\n",
       "      <td>3.0</td>\n",
       "      <td>2.0</td>\n",
       "      <td>0.0</td>\n",
       "    </tr>\n",
       "  </tbody>\n",
       "</table>\n",
       "<p>5 rows × 202 columns</p>\n",
       "</div>"
      ],
      "text/plain": [
       "  webpageID        labels   ac  access  accessories  add  ads  advantage  \\\n",
       "0   000004_      desktops  0.0     2.0          0.0  0.0  2.0        5.0   \n",
       "1   000011_       laptops  0.0     0.0          0.0  0.0  2.0        5.0   \n",
       "2   000018_       laptops  0.0     1.0          4.0  0.0  2.0        5.0   \n",
       "3   000024_      desktops  0.0     2.0          0.0  0.0  2.0        5.0   \n",
       "4   000036_  all-products  0.0     0.0          3.0  0.0  2.0        5.0   \n",
       "\n",
       "   apply  atom  ...   vpro  warranty  weight  windows  wireless  work  wyse  \\\n",
       "0    7.0   2.0  ...    4.0       0.0     0.0      9.0       0.0   1.0   0.0   \n",
       "1    7.0   2.0  ...    2.0       0.0     2.0      6.0       0.0   3.0   0.0   \n",
       "2    1.0   2.0  ...    2.0       0.0     3.0      5.0       1.0   7.0   0.0   \n",
       "3    7.0   2.0  ...    4.0       0.0     0.0      9.0       0.0   1.0   0.0   \n",
       "4    1.0   2.0  ...    2.0       1.0     0.0      2.0       0.0   2.0   0.0   \n",
       "\n",
       "   xeon   xps  year  \n",
       "0   5.0  17.0   0.0  \n",
       "1   4.0  23.0   0.0  \n",
       "2   3.0   0.0   0.0  \n",
       "3   5.0  17.0   0.0  \n",
       "4   3.0   2.0   0.0  \n",
       "\n",
       "[5 rows x 202 columns]"
      ]
     },
     "execution_count": 7,
     "metadata": {},
     "output_type": "execute_result"
    }
   ],
   "source": [
    "dfword=dfword.drop('word',axis=1)\n",
    "dfword=dfword.join(pd.DataFrame(data=words_features,columns=key_words))\n",
    "dfword.head()\n"
   ]
  },
  {
   "cell_type": "code",
   "execution_count": 8,
   "metadata": {
    "collapsed": false
   },
   "outputs": [
    {
     "data": {
      "text/plain": [
       "(2000, 202)"
      ]
     },
     "execution_count": 8,
     "metadata": {},
     "output_type": "execute_result"
    }
   ],
   "source": [
    "dfword.shape"
   ]
  },
  {
   "cell_type": "code",
   "execution_count": 9,
   "metadata": {
    "collapsed": false
   },
   "outputs": [],
   "source": [
    "df.to_csv('featuretable.csv', index=False)\n",
    "dfword.to_csv('bagofwords.csv', index=False)\n",
    "#newdf=pd.read_csv('featuretable.csv')\n",
    "#newdf.head()"
   ]
  },
  {
   "cell_type": "code",
   "execution_count": 10,
   "metadata": {
    "collapsed": false
   },
   "outputs": [],
   "source": [
    "#df.to_csv('featuretable.txt', index=False)\n",
    "\n",
    "#newdf=pd.read_csv('featuretable.txt')\n",
    "#newdf.head()"
   ]
  },
  {
   "cell_type": "code",
   "execution_count": null,
   "metadata": {
    "collapsed": false
   },
   "outputs": [],
   "source": []
  },
  {
   "cell_type": "code",
   "execution_count": null,
   "metadata": {
    "collapsed": true
   },
   "outputs": [],
   "source": []
  }
 ],
 "metadata": {
  "kernelspec": {
   "display_name": "Python 3",
   "language": "python",
   "name": "python3"
  },
  "language_info": {
   "codemirror_mode": {
    "name": "ipython",
    "version": 3
   },
   "file_extension": ".py",
   "mimetype": "text/x-python",
   "name": "python",
   "nbconvert_exporter": "python",
   "pygments_lexer": "ipython3",
   "version": "3.5.1"
  }
 },
 "nbformat": 4,
 "nbformat_minor": 0
}
