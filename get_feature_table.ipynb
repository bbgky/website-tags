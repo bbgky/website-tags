{
 "cells": [
  {
   "cell_type": "code",
   "execution_count": 1,
   "metadata": {
    "collapsed": true
   },
   "outputs": [],
   "source": [
    "import pandas as pd\n",
    "import numpy as np\n",
    "import glob\n",
    "import os.path"
   ]
  },
  {
   "cell_type": "code",
   "execution_count": 93,
   "metadata": {
    "collapsed": false
   },
   "outputs": [
    {
     "data": {
      "text/html": [
       "<div>\n",
       "<table border=\"1\" class=\"dataframe\">\n",
       "  <thead>\n",
       "    <tr style=\"text-align: right;\">\n",
       "      <th></th>\n",
       "      <th>webpageID</th>\n",
       "      <th>og:type</th>\n",
       "      <th>pagetype</th>\n",
       "      <th>salestype</th>\n",
       "      <th>country</th>\n",
       "      <th>language</th>\n",
       "    </tr>\n",
       "  </thead>\n",
       "  <tbody>\n",
       "    <tr>\n",
       "      <th>494</th>\n",
       "      <td>044390_</td>\n",
       "      <td>product</td>\n",
       "      <td>product</td>\n",
       "      <td>franchise</td>\n",
       "      <td>us</td>\n",
       "      <td>en</td>\n",
       "    </tr>\n",
       "    <tr>\n",
       "      <th>495</th>\n",
       "      <td>044414_</td>\n",
       "      <td>product</td>\n",
       "      <td>product</td>\n",
       "      <td>franchise</td>\n",
       "      <td>us</td>\n",
       "      <td>en</td>\n",
       "    </tr>\n",
       "    <tr>\n",
       "      <th>496</th>\n",
       "      <td>044477_</td>\n",
       "      <td>product</td>\n",
       "      <td>product</td>\n",
       "      <td>franchise</td>\n",
       "      <td>us</td>\n",
       "      <td>en</td>\n",
       "    </tr>\n",
       "    <tr>\n",
       "      <th>497</th>\n",
       "      <td>044643_</td>\n",
       "      <td>product</td>\n",
       "      <td>product</td>\n",
       "      <td>franchise</td>\n",
       "      <td>us</td>\n",
       "      <td>en</td>\n",
       "    </tr>\n",
       "    <tr>\n",
       "      <th>498</th>\n",
       "      <td>044679_</td>\n",
       "      <td>category</td>\n",
       "      <td>category</td>\n",
       "      <td>parent_product_category</td>\n",
       "      <td>us</td>\n",
       "      <td>en</td>\n",
       "    </tr>\n",
       "  </tbody>\n",
       "</table>\n",
       "</div>"
      ],
      "text/plain": [
       "    webpageID   og:type  pagetype                salestype country language\n",
       "494   044390_   product   product                franchise      us       en\n",
       "495   044414_   product   product                franchise      us       en\n",
       "496   044477_   product   product                franchise      us       en\n",
       "497   044643_   product   product                franchise      us       en\n",
       "498   044679_  category  category  parent_product_category      us       en"
      ]
     },
     "execution_count": 93,
     "metadata": {},
     "output_type": "execute_result"
    }
   ],
   "source": [
    "list_of_files=glob.glob('./cdips_dell_test/*.txt')\n",
    "columns=['webpageID','og:type','pagetype','salestype','country','language']\n",
    "df=pd.DataFrame(columns=columns,index=range(len(list_of_files)))\n",
    "tmp=[]\n",
    "for i in range(len(list_of_files)):\n",
    "    try:\n",
    "        f=pd.read_csv(list_of_files[i],header=None,)\n",
    "    except ValueError:\n",
    "        tmp.append(i)\n",
    "        continue\n",
    "    listf=[f.loc[x,0].lower().split(' ') for x in range(f.shape[0])]\n",
    "    dicf={}\n",
    "    for j in listf:\n",
    "        dicf[j[0]]=j[1]\n",
    "    for key in dicf:\n",
    "        df.loc[i,key]=dicf[key]\n",
    "    df.loc[i,'webpageID']=os.path.basename(list_of_files[i])[:7]\n",
    "df.tail()"
   ]
  },
  {
   "cell_type": "code",
   "execution_count": 96,
   "metadata": {
    "collapsed": false
   },
   "outputs": [
    {
     "data": {
      "text/html": [
       "<div>\n",
       "<table border=\"1\" class=\"dataframe\">\n",
       "  <thead>\n",
       "    <tr style=\"text-align: right;\">\n",
       "      <th></th>\n",
       "      <th>webpageID</th>\n",
       "      <th>og:type</th>\n",
       "      <th>pagetype</th>\n",
       "      <th>salestype</th>\n",
       "      <th>country</th>\n",
       "      <th>language</th>\n",
       "    </tr>\n",
       "  </thead>\n",
       "  <tbody>\n",
       "    <tr>\n",
       "      <th>0</th>\n",
       "      <td>000051_</td>\n",
       "      <td>category</td>\n",
       "      <td>category</td>\n",
       "      <td>config_category</td>\n",
       "      <td>us</td>\n",
       "      <td>en</td>\n",
       "    </tr>\n",
       "    <tr>\n",
       "      <th>1</th>\n",
       "      <td>000075_</td>\n",
       "      <td>product</td>\n",
       "      <td>product</td>\n",
       "      <td>franchise</td>\n",
       "      <td>us</td>\n",
       "      <td>en</td>\n",
       "    </tr>\n",
       "    <tr>\n",
       "      <th>2</th>\n",
       "      <td>000087_</td>\n",
       "      <td>category</td>\n",
       "      <td>category</td>\n",
       "      <td>parent_product_category</td>\n",
       "      <td>us</td>\n",
       "      <td>en</td>\n",
       "    </tr>\n",
       "    <tr>\n",
       "      <th>3</th>\n",
       "      <td>000131_</td>\n",
       "      <td>product</td>\n",
       "      <td>product</td>\n",
       "      <td>franchise</td>\n",
       "      <td>us</td>\n",
       "      <td>en</td>\n",
       "    </tr>\n",
       "    <tr>\n",
       "      <th>4</th>\n",
       "      <td>000154_</td>\n",
       "      <td>product</td>\n",
       "      <td>product</td>\n",
       "      <td>franchise</td>\n",
       "      <td>us</td>\n",
       "      <td>en</td>\n",
       "    </tr>\n",
       "  </tbody>\n",
       "</table>\n",
       "</div>"
      ],
      "text/plain": [
       "  webpageID   og:type  pagetype                salestype country language\n",
       "0   000051_  category  category          config_category      us       en\n",
       "1   000075_   product   product                franchise      us       en\n",
       "2   000087_  category  category  parent_product_category      us       en\n",
       "3   000131_   product   product                franchise      us       en\n",
       "4   000154_   product   product                franchise      us       en"
      ]
     },
     "execution_count": 96,
     "metadata": {},
     "output_type": "execute_result"
    }
   ],
   "source": [
    "df.to_csv('featuretable.csv', index=False)\n",
    "\n",
    "newdf=pd.read_csv('featuretable.csv')\n",
    "newdf.head()"
   ]
  },
  {
   "cell_type": "code",
   "execution_count": 97,
   "metadata": {
    "collapsed": false
   },
   "outputs": [
    {
     "data": {
      "text/html": [
       "<div>\n",
       "<table border=\"1\" class=\"dataframe\">\n",
       "  <thead>\n",
       "    <tr style=\"text-align: right;\">\n",
       "      <th></th>\n",
       "      <th>webpageID</th>\n",
       "      <th>og:type</th>\n",
       "      <th>pagetype</th>\n",
       "      <th>salestype</th>\n",
       "      <th>country</th>\n",
       "      <th>language</th>\n",
       "    </tr>\n",
       "  </thead>\n",
       "  <tbody>\n",
       "    <tr>\n",
       "      <th>0</th>\n",
       "      <td>000051_</td>\n",
       "      <td>category</td>\n",
       "      <td>category</td>\n",
       "      <td>config_category</td>\n",
       "      <td>us</td>\n",
       "      <td>en</td>\n",
       "    </tr>\n",
       "    <tr>\n",
       "      <th>1</th>\n",
       "      <td>000075_</td>\n",
       "      <td>product</td>\n",
       "      <td>product</td>\n",
       "      <td>franchise</td>\n",
       "      <td>us</td>\n",
       "      <td>en</td>\n",
       "    </tr>\n",
       "    <tr>\n",
       "      <th>2</th>\n",
       "      <td>000087_</td>\n",
       "      <td>category</td>\n",
       "      <td>category</td>\n",
       "      <td>parent_product_category</td>\n",
       "      <td>us</td>\n",
       "      <td>en</td>\n",
       "    </tr>\n",
       "    <tr>\n",
       "      <th>3</th>\n",
       "      <td>000131_</td>\n",
       "      <td>product</td>\n",
       "      <td>product</td>\n",
       "      <td>franchise</td>\n",
       "      <td>us</td>\n",
       "      <td>en</td>\n",
       "    </tr>\n",
       "    <tr>\n",
       "      <th>4</th>\n",
       "      <td>000154_</td>\n",
       "      <td>product</td>\n",
       "      <td>product</td>\n",
       "      <td>franchise</td>\n",
       "      <td>us</td>\n",
       "      <td>en</td>\n",
       "    </tr>\n",
       "  </tbody>\n",
       "</table>\n",
       "</div>"
      ],
      "text/plain": [
       "  webpageID   og:type  pagetype                salestype country language\n",
       "0   000051_  category  category          config_category      us       en\n",
       "1   000075_   product   product                franchise      us       en\n",
       "2   000087_  category  category  parent_product_category      us       en\n",
       "3   000131_   product   product                franchise      us       en\n",
       "4   000154_   product   product                franchise      us       en"
      ]
     },
     "execution_count": 97,
     "metadata": {},
     "output_type": "execute_result"
    }
   ],
   "source": [
    "df.to_csv('featuretable.txt', index=False)\n",
    "\n",
    "newdf=pd.read_csv('featuretable.txt')\n",
    "newdf.head()"
   ]
  },
  {
   "cell_type": "code",
   "execution_count": null,
   "metadata": {
    "collapsed": true
   },
   "outputs": [],
   "source": []
  }
 ],
 "metadata": {
  "kernelspec": {
   "display_name": "Python 3",
   "language": "python",
   "name": "python3"
  },
  "language_info": {
   "codemirror_mode": {
    "name": "ipython",
    "version": 3
   },
   "file_extension": ".py",
   "mimetype": "text/x-python",
   "name": "python",
   "nbconvert_exporter": "python",
   "pygments_lexer": "ipython3",
   "version": "3.5.1"
  }
 },
 "nbformat": 4,
 "nbformat_minor": 0
}
