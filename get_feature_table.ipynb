{
 "cells": [
  {
   "cell_type": "code",
   "execution_count": 1,
   "metadata": {
    "collapsed": true
   },
   "outputs": [],
   "source": [
    "import pandas as pd\n",
    "import numpy as np\n",
    "import glob\n",
    "import os.path\n",
    "import matplotlib.pyplot as plt\n",
    "%matplotlib inline\n",
    "from sklearn.feature_extraction.text import CountVectorizer, TfidfVectorizer, TfidfTransformer\n",
    "from nltk.corpus import stopwords\n",
    "from nltk.stem.porter import PorterStemmer"
   ]
  },
  {
   "cell_type": "code",
   "execution_count": 2,
   "metadata": {
    "collapsed": false
   },
   "outputs": [
    {
     "data": {
      "text/html": [
       "<div>\n",
       "<table border=\"1\" class=\"dataframe\">\n",
       "  <thead>\n",
       "    <tr style=\"text-align: right;\">\n",
       "      <th></th>\n",
       "      <th>webpageID</th>\n",
       "      <th>og:type</th>\n",
       "      <th>salestype</th>\n",
       "      <th>country</th>\n",
       "      <th>language</th>\n",
       "      <th>categorypath</th>\n",
       "      <th>ui-tabs-panel</th>\n",
       "    </tr>\n",
       "  </thead>\n",
       "  <tbody>\n",
       "    <tr>\n",
       "      <th>0</th>\n",
       "      <td>000004_</td>\n",
       "      <td>category</td>\n",
       "      <td>product_category</td>\n",
       "      <td>us</td>\n",
       "      <td>en</td>\n",
       "      <td>desktops</td>\n",
       "      <td>NaN</td>\n",
       "    </tr>\n",
       "    <tr>\n",
       "      <th>1</th>\n",
       "      <td>000006_</td>\n",
       "      <td>category</td>\n",
       "      <td>product_category</td>\n",
       "      <td>us</td>\n",
       "      <td>en</td>\n",
       "      <td>laptops</td>\n",
       "      <td>NaN</td>\n",
       "    </tr>\n",
       "    <tr>\n",
       "      <th>2</th>\n",
       "      <td>000007_</td>\n",
       "      <td>category</td>\n",
       "      <td>product_category</td>\n",
       "      <td>us</td>\n",
       "      <td>en</td>\n",
       "      <td>enterprise-products</td>\n",
       "      <td>NaN</td>\n",
       "    </tr>\n",
       "    <tr>\n",
       "      <th>3</th>\n",
       "      <td>000009_</td>\n",
       "      <td>category</td>\n",
       "      <td>product_category</td>\n",
       "      <td>us</td>\n",
       "      <td>en</td>\n",
       "      <td>laptops</td>\n",
       "      <td>NaN</td>\n",
       "    </tr>\n",
       "    <tr>\n",
       "      <th>4</th>\n",
       "      <td>000011_</td>\n",
       "      <td>category</td>\n",
       "      <td>product_category</td>\n",
       "      <td>us</td>\n",
       "      <td>en</td>\n",
       "      <td>laptops</td>\n",
       "      <td>NaN</td>\n",
       "    </tr>\n",
       "  </tbody>\n",
       "</table>\n",
       "</div>"
      ],
      "text/plain": [
       "  webpageID   og:type         salestype country language         categorypath  \\\n",
       "0   000004_  category  product_category      us       en             desktops   \n",
       "1   000006_  category  product_category      us       en              laptops   \n",
       "2   000007_  category  product_category      us       en  enterprise-products   \n",
       "3   000009_  category  product_category      us       en              laptops   \n",
       "4   000011_  category  product_category      us       en              laptops   \n",
       "\n",
       "  ui-tabs-panel  \n",
       "0           NaN  \n",
       "1           NaN  \n",
       "2           NaN  \n",
       "3           NaN  \n",
       "4           NaN  "
      ]
     },
     "execution_count": 2,
     "metadata": {},
     "output_type": "execute_result"
    }
   ],
   "source": [
    "list_of_files=glob.glob('../dell_us_/tmp/*_.txt')\n",
    "columns=['webpageID','og:type','salestype','country','language',]\n",
    "\n",
    "df=pd.DataFrame(columns=columns,index=range(len(list_of_files)))\n",
    "\n",
    "dfword=pd.DataFrame(columns=['webpageID','labels'],index=range(len(list_of_files)))\n",
    "\n",
    "for i in range(len(list_of_files)):\n",
    "    dfword.loc[i,'webpageID']=df.loc[i,'webpageID']=os.path.basename(list_of_files[i])[:7]\n",
    "    word=open(list_of_files[i],'r').read().strip('\\n')\n",
    "    dfword.loc[i,'word']=word\n",
    "    \n",
    "    headerfile=list_of_files[i].split('.txt')[0]+'header.txt'\n",
    "    try:\n",
    "        f=pd.read_csv(headerfile,header=None,)\n",
    "    except ValueError:\n",
    "        continue\n",
    "    listf=[f.loc[x,0].lower().split(' ') for x in range(f.shape[0])]\n",
    "    dicf={}\n",
    "    #for j in listf:\n",
    "     #   dicf[j[0]]=j[1]\n",
    "    for j in listf:\n",
    "        try:\n",
    "            df.loc[i,j[0]]=j[1]\n",
    "        except IndexError:\n",
    "            continue\n",
    "\n",
    "    \n",
    "df.head()"
   ]
  },
  {
   "cell_type": "code",
   "execution_count": null,
   "metadata": {
    "collapsed": false
   },
   "outputs": [],
   "source": []
  },
  {
   "cell_type": "code",
   "execution_count": 3,
   "metadata": {
    "collapsed": false
   },
   "outputs": [
    {
     "name": "stdout",
     "output_type": "stream",
     "text": [
      "['all-products' 'cloud-client-computing' 'deals' 'dell-tablets' 'desktops'\n",
      " 'document_' 'enterprise-products' 'laptops' 'other-product'\n",
      " 'server-storage-solutions' 'software' 'unkowntype_']\n",
      "number of labels is 12\n"
     ]
    },
    {
     "data": {
      "image/png": "[encoded data removed]",
      "text/plain": [
       "<matplotlib.figure.Figure at 0x127a5ca20>"
      ]
     },
     "metadata": {},
     "output_type": "display_data"
    }
   ],
   "source": [
    "df=df.fillna(' ')\n",
    "#df.loc[:,'og:type_cpath']=['_'.join((i,j))for i, j in zip(df.loc[:,'og:type'],df.loc[:,'categorypath'])]\n",
    "\n",
    "#uniquelablef=df.loc[:,'og:type_cpath'].unique()\n",
    "df.loc[df.loc[:,'og:type']=='document','categorypath']='document_'\n",
    "df.loc[df.loc[:,'og:type']=='documentsearch','categorypath']='document_'\n",
    "df.loc[df.loc[:,'og:type']==' ','categorypath']='unkowntype_'\n",
    "#uniquelablef=df.loc[:,'categorypath'].unique()\n",
    "for i in range(df.shape[0]):\n",
    "    if df.loc[i,'categorypath'] not in {'document_','laptops','desktops',\n",
    "                                        'enterprise-products','unkowntype_','deals','software','dell-tablets',\n",
    "                                     'server-storage-solutions','cloud-client-computing','all-products'}:\n",
    "           df.loc[i,'categorypath']='other-product'\n",
    "    \n",
    "\n",
    "\n",
    "#print(uniquelablef)\n",
    "#print('number of labels is {}'.format(len(uniquelablef)))\n",
    "fig=plt.figure(figsize=(14,8))\n",
    "labels,labelscount = np.unique(df.loc[:,'categorypath'].values,return_counts=True)\n",
    "print(labels)\n",
    "print('number of labels is {}'.format(len(labels)))\n",
    "indices=np.argsort(labelscount)[::-1]\n",
    "plt.bar(range(len(labels)),labelscount[indices],align='center')\n",
    "plt.xticks(range(len(labels)),labels[indices],rotation=90, fontsize=14)\n",
    "plt.title('Webpage Distributions', fontsize=18)\n",
    "plt.ylabel('count', fontsize=14)\n",
    "plt.show()\n",
    "\n",
    "#for i in range(len(uniquelablef)):\n",
    "    #df.loc[df.loc[:,'og:type_cpath']==uniquelablef[i],'label']=i\n",
    "    #df.loc[df.loc[:,'categorypath']==uniquelablef[i],'label'] = int(i)\n",
    "\n",
    "#df"
   ]
  },
  {
   "cell_type": "code",
   "execution_count": 4,
   "metadata": {
    "collapsed": false
   },
   "outputs": [
    {
     "data": {
      "text/html": [
       "<div>\n",
       "<table border=\"1\" class=\"dataframe\">\n",
       "  <thead>\n",
       "    <tr style=\"text-align: right;\">\n",
       "      <th></th>\n",
       "      <th>webpageID</th>\n",
       "      <th>labels</th>\n",
       "      <th>word</th>\n",
       "    </tr>\n",
       "  </thead>\n",
       "  <tbody>\n",
       "    <tr>\n",
       "      <th>0</th>\n",
       "      <td>000004_</td>\n",
       "      <td>desktops</td>\n",
       "      <td>for hours only get tremendous savings up to o...</td>\n",
       "    </tr>\n",
       "    <tr>\n",
       "      <th>1</th>\n",
       "      <td>000006_</td>\n",
       "      <td>laptops</td>\n",
       "      <td>for hours only get tremendous savings up to o...</td>\n",
       "    </tr>\n",
       "    <tr>\n",
       "      <th>2</th>\n",
       "      <td>000007_</td>\n",
       "      <td>enterprise-products</td>\n",
       "      <td>dell o sign in click to chat or call us shop ...</td>\n",
       "    </tr>\n",
       "    <tr>\n",
       "      <th>3</th>\n",
       "      <td>000009_</td>\n",
       "      <td>laptops</td>\n",
       "      <td>for hours only get tremendous savings up to o...</td>\n",
       "    </tr>\n",
       "    <tr>\n",
       "      <th>4</th>\n",
       "      <td>000011_</td>\n",
       "      <td>laptops</td>\n",
       "      <td>for hours only get tremendous savings up to o...</td>\n",
       "    </tr>\n",
       "  </tbody>\n",
       "</table>\n",
       "</div>"
      ],
      "text/plain": [
       "  webpageID               labels  \\\n",
       "0   000004_             desktops   \n",
       "1   000006_              laptops   \n",
       "2   000007_  enterprise-products   \n",
       "3   000009_              laptops   \n",
       "4   000011_              laptops   \n",
       "\n",
       "                                                word  \n",
       "0   for hours only get tremendous savings up to o...  \n",
       "1   for hours only get tremendous savings up to o...  \n",
       "2   dell o sign in click to chat or call us shop ...  \n",
       "3   for hours only get tremendous savings up to o...  \n",
       "4   for hours only get tremendous savings up to o...  "
      ]
     },
     "execution_count": 4,
     "metadata": {},
     "output_type": "execute_result"
    }
   ],
   "source": [
    "dfword=dfword.fillna(' ')\n",
    "dfword.loc[:,'labels']=df.loc[:,'categorypath']\n",
    "allwords=dfword.loc[:,'word']\n",
    "dfword.head()"
   ]
  },
  {
   "cell_type": "code",
   "execution_count": 5,
   "metadata": {
    "collapsed": true
   },
   "outputs": [],
   "source": [
    "\n",
    "\n",
    "stops=stopwords.words(\"english\")\n",
    "stops.append('dell')\n",
    "\n",
    "porter= PorterStemmer()\n",
    "def tokenizer_porter(text):\n",
    "    return [porter.stem(word) for word in text.split()]\n",
    "\n",
    "vectorizer = TfidfVectorizer(analyzer='word',stop_words=stops,use_idf=False,\n",
    "                             tokenizer=None, norm=None, max_features= 200)\n",
    "\n",
    "\n"
   ]
  },
  {
   "cell_type": "code",
   "execution_count": 6,
   "metadata": {
    "collapsed": true
   },
   "outputs": [],
   "source": [
    "words_features = vectorizer.fit_transform(allwords)\n",
    "words_features = words_features.toarray().astype(int)\n",
    "\n",
    "key_words = vectorizer.get_feature_names()\n"
   ]
  },
  {
   "cell_type": "code",
   "execution_count": 7,
   "metadata": {
    "collapsed": false,
    "scrolled": true
   },
   "outputs": [
    {
     "data": {
      "text/html": [
       "<div>\n",
       "<table border=\"1\" class=\"dataframe\">\n",
       "  <thead>\n",
       "    <tr style=\"text-align: right;\">\n",
       "      <th></th>\n",
       "      <th>webpageID</th>\n",
       "      <th>labels</th>\n",
       "      <th>ac</th>\n",
       "      <th>add</th>\n",
       "      <th>advantage</th>\n",
       "      <th>anzeigen</th>\n",
       "      <th>apply</th>\n",
       "      <th>atom</th>\n",
       "      <th>au</th>\n",
       "      <th>auf</th>\n",
       "      <th>...</th>\n",
       "      <th>votre</th>\n",
       "      <th>vous</th>\n",
       "      <th>vpro</th>\n",
       "      <th>werden</th>\n",
       "      <th>windows</th>\n",
       "      <th>wireless</th>\n",
       "      <th>xeon</th>\n",
       "      <th>xps</th>\n",
       "      <th>zu</th>\n",
       "      <th>zur</th>\n",
       "    </tr>\n",
       "  </thead>\n",
       "  <tbody>\n",
       "    <tr>\n",
       "      <th>0</th>\n",
       "      <td>000004_</td>\n",
       "      <td>desktops</td>\n",
       "      <td>0</td>\n",
       "      <td>0</td>\n",
       "      <td>5</td>\n",
       "      <td>0</td>\n",
       "      <td>7</td>\n",
       "      <td>2</td>\n",
       "      <td>0</td>\n",
       "      <td>0</td>\n",
       "      <td>...</td>\n",
       "      <td>0</td>\n",
       "      <td>0</td>\n",
       "      <td>4</td>\n",
       "      <td>0</td>\n",
       "      <td>9</td>\n",
       "      <td>0</td>\n",
       "      <td>5</td>\n",
       "      <td>17</td>\n",
       "      <td>0</td>\n",
       "      <td>0</td>\n",
       "    </tr>\n",
       "    <tr>\n",
       "      <th>1</th>\n",
       "      <td>000006_</td>\n",
       "      <td>laptops</td>\n",
       "      <td>0</td>\n",
       "      <td>0</td>\n",
       "      <td>5</td>\n",
       "      <td>0</td>\n",
       "      <td>7</td>\n",
       "      <td>2</td>\n",
       "      <td>0</td>\n",
       "      <td>0</td>\n",
       "      <td>...</td>\n",
       "      <td>0</td>\n",
       "      <td>0</td>\n",
       "      <td>2</td>\n",
       "      <td>0</td>\n",
       "      <td>6</td>\n",
       "      <td>0</td>\n",
       "      <td>4</td>\n",
       "      <td>23</td>\n",
       "      <td>0</td>\n",
       "      <td>0</td>\n",
       "    </tr>\n",
       "    <tr>\n",
       "      <th>2</th>\n",
       "      <td>000007_</td>\n",
       "      <td>enterprise-products</td>\n",
       "      <td>0</td>\n",
       "      <td>0</td>\n",
       "      <td>5</td>\n",
       "      <td>0</td>\n",
       "      <td>1</td>\n",
       "      <td>2</td>\n",
       "      <td>0</td>\n",
       "      <td>0</td>\n",
       "      <td>...</td>\n",
       "      <td>0</td>\n",
       "      <td>0</td>\n",
       "      <td>2</td>\n",
       "      <td>0</td>\n",
       "      <td>0</td>\n",
       "      <td>0</td>\n",
       "      <td>4</td>\n",
       "      <td>0</td>\n",
       "      <td>0</td>\n",
       "      <td>0</td>\n",
       "    </tr>\n",
       "    <tr>\n",
       "      <th>3</th>\n",
       "      <td>000009_</td>\n",
       "      <td>laptops</td>\n",
       "      <td>0</td>\n",
       "      <td>0</td>\n",
       "      <td>5</td>\n",
       "      <td>0</td>\n",
       "      <td>7</td>\n",
       "      <td>2</td>\n",
       "      <td>0</td>\n",
       "      <td>0</td>\n",
       "      <td>...</td>\n",
       "      <td>0</td>\n",
       "      <td>0</td>\n",
       "      <td>2</td>\n",
       "      <td>0</td>\n",
       "      <td>6</td>\n",
       "      <td>0</td>\n",
       "      <td>4</td>\n",
       "      <td>23</td>\n",
       "      <td>0</td>\n",
       "      <td>0</td>\n",
       "    </tr>\n",
       "    <tr>\n",
       "      <th>4</th>\n",
       "      <td>000011_</td>\n",
       "      <td>laptops</td>\n",
       "      <td>0</td>\n",
       "      <td>0</td>\n",
       "      <td>5</td>\n",
       "      <td>0</td>\n",
       "      <td>7</td>\n",
       "      <td>2</td>\n",
       "      <td>0</td>\n",
       "      <td>0</td>\n",
       "      <td>...</td>\n",
       "      <td>0</td>\n",
       "      <td>0</td>\n",
       "      <td>2</td>\n",
       "      <td>0</td>\n",
       "      <td>6</td>\n",
       "      <td>0</td>\n",
       "      <td>4</td>\n",
       "      <td>23</td>\n",
       "      <td>0</td>\n",
       "      <td>0</td>\n",
       "    </tr>\n",
       "  </tbody>\n",
       "</table>\n",
       "<p>5 rows × 202 columns</p>\n",
       "</div>"
      ],
      "text/plain": [
       "  webpageID               labels  ac  add  advantage  anzeigen  apply  atom  \\\n",
       "0   000004_             desktops   0    0          5         0      7     2   \n",
       "1   000006_              laptops   0    0          5         0      7     2   \n",
       "2   000007_  enterprise-products   0    0          5         0      1     2   \n",
       "3   000009_              laptops   0    0          5         0      7     2   \n",
       "4   000011_              laptops   0    0          5         0      7     2   \n",
       "\n",
       "   au  auf ...   votre  vous  vpro  werden  windows  wireless  xeon  xps  zu  \\\n",
       "0   0    0 ...       0     0     4       0        9         0     5   17   0   \n",
       "1   0    0 ...       0     0     2       0        6         0     4   23   0   \n",
       "2   0    0 ...       0     0     2       0        0         0     4    0   0   \n",
       "3   0    0 ...       0     0     2       0        6         0     4   23   0   \n",
       "4   0    0 ...       0     0     2       0        6         0     4   23   0   \n",
       "\n",
       "   zur  \n",
       "0    0  \n",
       "1    0  \n",
       "2    0  \n",
       "3    0  \n",
       "4    0  \n",
       "\n",
       "[5 rows x 202 columns]"
      ]
     },
     "execution_count": 7,
     "metadata": {},
     "output_type": "execute_result"
    }
   ],
   "source": [
    "dfword=dfword.drop('word',axis=1)\n",
    "dfword=dfword.join(pd.DataFrame(data=words_features,columns=key_words))\n",
    "dfword.head()\n"
   ]
  },
  {
   "cell_type": "code",
   "execution_count": 8,
   "metadata": {
    "collapsed": false
   },
   "outputs": [
    {
     "data": {
      "text/plain": [
       "(5000, 202)"
      ]
     },
     "execution_count": 8,
     "metadata": {},
     "output_type": "execute_result"
    }
   ],
   "source": [
    "dfword.shape"
   ]
  },
  {
   "cell_type": "code",
   "execution_count": 9,
   "metadata": {
    "collapsed": false
   },
   "outputs": [],
   "source": [
    "df.to_csv('featuretable.csv', index=False)\n",
    "dfword.to_csv('bagofwords.csv', index=False)\n",
    "#newdf=pd.read_csv('featuretable.csv')\n",
    "#newdf.head()"
   ]
  },
  {
   "cell_type": "code",
   "execution_count": 10,
   "metadata": {
    "collapsed": false
   },
   "outputs": [],
   "source": [
    "#df.to_csv('featuretable.txt', index=False)\n",
    "\n",
    "#newdf=pd.read_csv('featuretable.txt')\n",
    "#newdf.head()"
   ]
  },
  {
   "cell_type": "code",
   "execution_count": null,
   "metadata": {
    "collapsed": true
   },
   "outputs": [],
   "source": []
  }
 ],
 "metadata": {
  "kernelspec": {
   "display_name": "Python 3",
   "language": "python",
   "name": "python3"
  },
  "language_info": {
   "codemirror_mode": {
    "name": "ipython",
    "version": 3
   },
   "file_extension": ".py",
   "mimetype": "text/x-python",
   "name": "python",
   "nbconvert_exporter": "python",
   "pygments_lexer": "ipython3",
   "version": "3.5.1"
  }
 },
 "nbformat": 4,
 "nbformat_minor": 0
}
