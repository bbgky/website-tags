{
 "cells": [
  {
   "cell_type": "code",
   "execution_count": 1,
   "metadata": {
    "collapsed": true
   },
   "outputs": [],
   "source": [
    "import pandas as pd\n",
    "import glob\n",
    "from nltk.corpus import stopwords\n",
    "import numpy as np\n",
    "import matplotlib.pyplot as plt\n",
    "%matplotlib inline\n",
    "from sklearn.cluster import KMeans"
   ]
  },
  {
   "cell_type": "code",
   "execution_count": 2,
   "metadata": {
    "collapsed": false
   },
   "outputs": [],
   "source": [
    "# I load 101 pages for testing\n",
    "list_of_files=glob.glob('../forcluster/*.txt')\n",
    "#each page is cleaned to be a huge string, by lnyx in bash. Put all the strings in a list\n",
    "allwords=[]\n",
    "for i in range(len(list_of_files)):\n",
    "    file=open(list_of_files[i],'r')\n",
    "    raw=file.read().strip('\\n')\n",
    "    allwords.append(raw)\n"
   ]
  },
  {
   "cell_type": "code",
   "execution_count": 3,
   "metadata": {
    "collapsed": false
   },
   "outputs": [
    {
     "name": "stdout",
     "output_type": "stream",
     "text": [
      "Total number of files is 354\n",
      "One example is\n",
      " dell o sign in click to chat or call us shop support community search financing live chat or call available contracts coupons join dell advantage rewards price match for work servers storage networking ajax loader gif servers storage and networking intel xeon tm poweredge server deals servers storage network hardware and devices dell software data center infrastructure client systems management other ways to shop server deals small business solutions find a dell certified partner parts for your dell servers parts for your dell storage parts for your dell network switches dell nic selector dell processor selector hour sale tremendous savings up to off are going fast shop now continual shop now shop now learn more chat need help deciding which solution is right for your business chat with our solutions advisor take the first step take the first step a dell expert will call you about your server needs request a call back shop enterprise products servers servers our powerful affordable network engines emphasize scalability and reliability select storage storage discover what you need to back up protect and consolidate important data select networking networking get high performance reliable managed and unmanaged network connectivity select sonicwall tz family dell sonicwall network security control manage and protect your network easily and automatically with intuitive security solutions from dell sonicwall select featured videos future ready storage that s ready right now future ready storage that s ready right now optimize your data center infrastructure grow storage on demand intelligently manage your data and seamlessly adapt to business needs with the innovative portfolio of dell storage solutions next generation poweredge servers next generation poweredge servers boost application performance and fuel innovation with the poweredge family of rack tower blade and converged platform servers introduction to converged introduction to converged shift your it focus from maintaining disparate devices in your data center to directing a single landscape of servers and storage video networkin c series resources and shopping help dell deals dell deals begin saving today learn more find a partner find a partner locate a dell certified partner near you more details dell business credit productivity is within reach get no interest if paid in full within days on poweredge servers or more limited time offer for qualified customers learn more do more with dell employee and student discounts partnerdirect the power to do more dell outlet techcenter make a payment about dell investors company information corporate social responsibility customer engagement careers newsroom legal ads emails privacy statement legal regulatory terms of sale trademarks community the dell community read our blog support forums events dell terms of sale unresolved issues privacy ads emails contact site map feedback ultrabook celeron celeron inside core inside intel intel logo intel atom intel atom inside intel core intel inside intel inside logo intel vpro itanium itanium inside pentium pentium inside vpro inside xeon xeon phi and xeon inside are trademarks of intel corporation in the u s and or other countries rewards are provided in the form of a promotional code back in rewards valid only on purchases using dell business credit dbc and dell advantage loyalty program back in rewards valid on all other dell advantage purchases bose products only eligible for rewards with dell advantage second business day shipping not available on tvs or larger and dell branded monitors rewards arrive separately from purchase typically in days from ship date via email expires in days except where prohibited by law any balance remaining on your purchase after dell advantage rewards are applied may not be paid with dbc and instead a separate form of payment must be used refurbished and or used purchases do not qualify for rewards terms and conditions apply dell com rewardterms dell business credit offer varies by creditworthiness as determined by lender offered by webbank to small and medium business customers with approved credit taxes shipping and other charges are extra and vary minimum monthly payments are the greater of or of account balance close p cs \n"
     ]
    }
   ],
   "source": [
    "#an example of the words from a page\n",
    "print(\"Total number of files is {}\".format(len(allwords)))\n",
    "print(\"One example is\")\n",
    "print(allwords[6])"
   ]
  },
  {
   "cell_type": "code",
   "execution_count": 4,
   "metadata": {
    "collapsed": false
   },
   "outputs": [
    {
     "data": {
      "text/plain": [
       "['i',\n",
       " 'me',\n",
       " 'my',\n",
       " 'myself',\n",
       " 'we',\n",
       " 'our',\n",
       " 'ours',\n",
       " 'ourselves',\n",
       " 'you',\n",
       " 'your',\n",
       " 'yours',\n",
       " 'yourself',\n",
       " 'yourselves',\n",
       " 'he',\n",
       " 'him',\n",
       " 'his',\n",
       " 'himself',\n",
       " 'she',\n",
       " 'her',\n",
       " 'hers',\n",
       " 'herself',\n",
       " 'it',\n",
       " 'its',\n",
       " 'itself',\n",
       " 'they',\n",
       " 'them',\n",
       " 'their',\n",
       " 'theirs',\n",
       " 'themselves',\n",
       " 'what',\n",
       " 'which',\n",
       " 'who',\n",
       " 'whom',\n",
       " 'this',\n",
       " 'that',\n",
       " 'these',\n",
       " 'those',\n",
       " 'am',\n",
       " 'is',\n",
       " 'are',\n",
       " 'was',\n",
       " 'were',\n",
       " 'be',\n",
       " 'been',\n",
       " 'being',\n",
       " 'have',\n",
       " 'has',\n",
       " 'had',\n",
       " 'having',\n",
       " 'do',\n",
       " 'does',\n",
       " 'did',\n",
       " 'doing',\n",
       " 'a',\n",
       " 'an',\n",
       " 'the',\n",
       " 'and',\n",
       " 'but',\n",
       " 'if',\n",
       " 'or',\n",
       " 'because',\n",
       " 'as',\n",
       " 'until',\n",
       " 'while',\n",
       " 'of',\n",
       " 'at',\n",
       " 'by',\n",
       " 'for',\n",
       " 'with',\n",
       " 'about',\n",
       " 'against',\n",
       " 'between',\n",
       " 'into',\n",
       " 'through',\n",
       " 'during',\n",
       " 'before',\n",
       " 'after',\n",
       " 'above',\n",
       " 'below',\n",
       " 'to',\n",
       " 'from',\n",
       " 'up',\n",
       " 'down',\n",
       " 'in',\n",
       " 'out',\n",
       " 'on',\n",
       " 'off',\n",
       " 'over',\n",
       " 'under',\n",
       " 'again',\n",
       " 'further',\n",
       " 'then',\n",
       " 'once',\n",
       " 'here',\n",
       " 'there',\n",
       " 'when',\n",
       " 'where',\n",
       " 'why',\n",
       " 'how',\n",
       " 'all',\n",
       " 'any',\n",
       " 'both',\n",
       " 'each',\n",
       " 'few',\n",
       " 'more',\n",
       " 'most',\n",
       " 'other',\n",
       " 'some',\n",
       " 'such',\n",
       " 'no',\n",
       " 'nor',\n",
       " 'not',\n",
       " 'only',\n",
       " 'own',\n",
       " 'same',\n",
       " 'so',\n",
       " 'than',\n",
       " 'too',\n",
       " 'very',\n",
       " 's',\n",
       " 't',\n",
       " 'can',\n",
       " 'will',\n",
       " 'just',\n",
       " 'don',\n",
       " 'should',\n",
       " 'now',\n",
       " 'd',\n",
       " 'll',\n",
       " 'm',\n",
       " 'o',\n",
       " 're',\n",
       " 've',\n",
       " 'y',\n",
       " 'ain',\n",
       " 'aren',\n",
       " 'couldn',\n",
       " 'didn',\n",
       " 'doesn',\n",
       " 'hadn',\n",
       " 'hasn',\n",
       " 'haven',\n",
       " 'isn',\n",
       " 'ma',\n",
       " 'mightn',\n",
       " 'mustn',\n",
       " 'needn',\n",
       " 'shan',\n",
       " 'shouldn',\n",
       " 'wasn',\n",
       " 'weren',\n",
       " 'won',\n",
       " 'wouldn',\n",
       " 'dell']"
      ]
     },
     "execution_count": 4,
     "metadata": {},
     "output_type": "execute_result"
    }
   ],
   "source": [
    "#load the stop words, and add word 'dell' to the list, show what is in the stop words.\n",
    "stops=stopwords.words(\"english\")\n",
    "stops.append('dell')\n",
    "stops"
   ]
  },
  {
   "cell_type": "code",
   "execution_count": 5,
   "metadata": {
    "collapsed": true
   },
   "outputs": [],
   "source": [
    "#load the bag_of_words method from sklearn, set the features to be 200, and get the word features \n",
    "#by calling the fit_transform method\n",
    "from sklearn.feature_extraction.text import CountVectorizer\n",
    "\n",
    "vectorizer = CountVectorizer(analyzer='word',stop_words=stops, max_features= 200)\n",
    "words_features = vectorizer.fit_transform(allwords)"
   ]
  },
  {
   "cell_type": "code",
   "execution_count": 6,
   "metadata": {
    "collapsed": false
   },
   "outputs": [
    {
     "data": {
      "text/plain": [
       "(354, 200)"
      ]
     },
     "execution_count": 6,
     "metadata": {},
     "output_type": "execute_result"
    }
   ],
   "source": [
    "#show the dimension of the words features, a 2D array, each row coresponds to each page.\n",
    "# columns are the most popular words frequency \n",
    "words_features=words_features.toarray()\n",
    "words_features.shape"
   ]
  },
  {
   "cell_type": "code",
   "execution_count": 7,
   "metadata": {
    "collapsed": false
   },
   "outputs": [
    {
     "name": "stdout",
     "output_type": "stream",
     "text": [
      "ab 211\n",
      "ac 224\n",
      "access 217\n",
      "ads 226\n",
      "advantage 473\n",
      "apply 228\n",
      "atom 455\n",
      "au 207\n",
      "available 460\n",
      "ba 222\n",
      "back 301\n",
      "bit 339\n",
      "business 1164\n",
      "call 297\n",
      "card 289\n",
      "celeron 465\n",
      "center 217\n",
      "chat 484\n",
      "choose 339\n",
      "cm 314\n",
      "com 238\n",
      "community 477\n",
      "compare 210\n",
      "conditions 225\n",
      "contact 281\n",
      "core 1161\n",
      "corporation 234\n",
      "credit 373\n",
      "cs 267\n",
      "customer 250\n",
      "da 211\n",
      "data 657\n",
      "day 262\n",
      "days 292\n",
      "ddr 207\n",
      "de 1829\n",
      "der 294\n",
      "des 325\n",
      "design 270\n",
      "desktop 531\n",
      "desktops 281\n",
      "di 476\n",
      "die 461\n",
      "display 222\n",
      "drive 538\n",
      "dual 259\n",
      "emails 227\n",
      "en 980\n",
      "endobj 653\n",
      "endstream 495\n",
      "english 208\n",
      "enterprise 255\n",
      "equallogic 259\n",
      "et 645\n",
      "eur 368\n",
      "features 238\n",
      "form 346\n",
      "free 233\n",
      "full 231\n",
      "gb 1587\n",
      "gen 231\n",
      "get 330\n",
      "gif 310\n",
      "go 280\n",
      "graphics 222\n",
      "ha 270\n",
      "hard 376\n",
      "hardware 240\n",
      "hd 357\n",
      "help 508\n",
      "high 247\n",
      "home 256\n",
      "information 250\n",
      "inside 2043\n",
      "inspiron 543\n",
      "intel 3355\n",
      "itanium 442\n",
      "la 403\n",
      "laptop 350\n",
      "laptops 261\n",
      "latitude 843\n",
      "le 338\n",
      "learn 336\n",
      "legal 310\n",
      "les 432\n",
      "logo 470\n",
      "manage 218\n",
      "management 463\n",
      "may 220\n",
      "md 705\n",
      "memory 299\n",
      "met 241\n",
      "microsoft 225\n",
      "mit 536\n",
      "mm 237\n",
      "mobile 313\n",
      "networking 231\n",
      "new 663\n",
      "ni 231\n",
      "non 233\n",
      "notebook 271\n",
      "obj 653\n",
      "offers 213\n",
      "one 435\n",
      "online 230\n",
      "optional 358\n",
      "options 353\n",
      "optiplex 868\n",
      "page 231\n",
      "partnerdirect 239\n",
      "payment 233\n",
      "pc 213\n",
      "pcie 244\n",
      "pdf 252\n",
      "pentium 482\n",
      "per 408\n",
      "performance 573\n",
      "phi 233\n",
      "plus 478\n",
      "pour 259\n",
      "power 493\n",
      "poweredge 751\n",
      "powervault 246\n",
      "precision 831\n",
      "premier 280\n",
      "price 302\n",
      "privacy 289\n",
      "pro 436\n",
      "processor 302\n",
      "product 273\n",
      "products 462\n",
      "professional 297\n",
      "prosupport 466\n",
      "ps 400\n",
      "purchase 249\n",
      "purchases 312\n",
      "rack 230\n",
      "raid 241\n",
      "read 203\n",
      "regulatory 301\n",
      "return 329\n",
      "rewards 792\n",
      "sa 221\n",
      "sale 274\n",
      "sas 378\n",
      "sata 200\n",
      "security 309\n",
      "series 1049\n",
      "server 649\n",
      "servers 330\n",
      "service 351\n",
      "services 603\n",
      "shipping 288\n",
      "shop 393\n",
      "sie 414\n",
      "site 288\n",
      "small 324\n",
      "software 407\n",
      "solutions 394\n",
      "ssd 237\n",
      "starting 760\n",
      "statement 203\n",
      "storage 853\n",
      "stream 822\n",
      "support 1114\n",
      "system 404\n",
      "systems 230\n",
      "ta 216\n",
      "tb 498\n",
      "te 297\n",
      "technology 231\n",
      "terms 476\n",
      "th 249\n",
      "time 249\n",
      "tm 1162\n",
      "top 347\n",
      "touch 317\n",
      "tower 264\n",
      "trademarks 336\n",
      "ultrabook 288\n",
      "un 263\n",
      "und 826\n",
      "us 277\n",
      "usb 226\n",
      "uw 224\n",
      "van 336\n",
      "view 239\n",
      "von 205\n",
      "voor 278\n",
      "vostro 296\n",
      "vpro 520\n",
      "windows 1163\n",
      "wireless 248\n",
      "wo 243\n",
      "work 236\n",
      "workstation 221\n",
      "workstations 305\n",
      "xeon 861\n",
      "xps 494\n",
      "zu 398\n"
     ]
    }
   ],
   "source": [
    "#show the feature words and their counts\n",
    "key_words = vectorizer.get_feature_names()\n",
    "words_count=np.sum(words_features,axis=0)\n",
    "\n",
    "for tag, count in zip(key_words,words_count):\n",
    "    print(tag, count)"
   ]
  },
  {
   "cell_type": "code",
   "execution_count": 8,
   "metadata": {
    "collapsed": true
   },
   "outputs": [],
   "source": [
    "#initialize the kmeans clustering methods, and cluster the words_features to 5 classes \n",
    "#kmeans_clustering=KMeans(n_clusters=6,n_jobs=-1, random_state=14)\n",
    "#prediction_clusters=kmeans_clustering.fit_predict(words_features)"
   ]
  },
  {
   "cell_type": "code",
   "execution_count": 15,
   "metadata": {
    "collapsed": true
   },
   "outputs": [],
   "source": [
    "# find the optimal number of clusters by plotting the .inertia_: \n",
    "#Sum of distances of samples to their closest cluster center.\n",
    "\n",
    "distortions = []\n",
    "prediction_clusters=[]\n",
    "for i in range (1, 30):\n",
    "    km_clustering=KMeans(n_clusters=i, \n",
    "                         n_jobs=-1, n_init=50, random_state=14)\n",
    "    prediction_cluster = km_clustering.fit_predict(words_features)\n",
    "    distortions.append(km_clustering.inertia_)\n",
    "    prediction_clusters.append(prediction_cluster)\n"
   ]
  },
  {
   "cell_type": "code",
   "execution_count": 16,
   "metadata": {
    "collapsed": false
   },
   "outputs": [
    {
     "data": {
      "image/png": "[encoded data removed]",
      "text/plain": [
       "<matplotlib.figure.Figure at 0x1180c09b0>"
      ]
     },
     "metadata": {},
     "output_type": "display_data"
    }
   ],
   "source": [
    "plt.plot(range(1,30),distortions, marker='o')\n",
    "plt.xlabel('Number of clusters')\n",
    "plt.ylabel('Distortion')\n",
    "plt.show()"
   ]
  },
  {
   "cell_type": "code",
   "execution_count": 22,
   "metadata": {
    "collapsed": false,
    "scrolled": true
   },
   "outputs": [
    {
     "data": {
      "image/png": "[encoded data removed]",
      "text/plain": [
       "<matplotlib.figure.Figure at 0x1180036a0>"
      ]
     },
     "metadata": {},
     "output_type": "display_data"
    }
   ],
   "source": [
    "plt.scatter(range(1,len(prediction_clusters[25])+1),prediction_clusters[25],)\n",
    "plt.ylim(-1,26)\n",
    "plt.show()"
   ]
  },
  {
   "cell_type": "code",
   "execution_count": null,
   "metadata": {
    "collapsed": true
   },
   "outputs": [],
   "source": []
  }
 ],
 "metadata": {
  "kernelspec": {
   "display_name": "Python 3",
   "language": "python",
   "name": "python3"
  },
  "language_info": {
   "codemirror_mode": {
    "name": "ipython",
    "version": 3
   },
   "file_extension": ".py",
   "mimetype": "text/x-python",
   "name": "python",
   "nbconvert_exporter": "python",
   "pygments_lexer": "ipython3",
   "version": "3.5.1"
  }
 },
 "nbformat": 4,
 "nbformat_minor": 0
}
