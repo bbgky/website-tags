{
 "cells": [
  {
   "cell_type": "code",
   "execution_count": 79,
   "metadata": {
    "collapsed": true
   },
   "outputs": [],
   "source": [
    "import pandas as pd\n",
    "import re\n",
    "from bs4 import BeautifulSoup as BS\n",
    "import glob\n",
    "from nltk.corpus import stopwords\n",
    "from collections import Counter"
   ]
  },
  {
   "cell_type": "code",
   "execution_count": 80,
   "metadata": {
    "collapsed": false
   },
   "outputs": [
    {
     "data": {
      "text/plain": [
       "100"
      ]
     },
     "execution_count": 80,
     "metadata": {},
     "output_type": "execute_result"
    }
   ],
   "source": [
    "listoffiles=glob.glob('../../cdips_dell/test/*.html')\n",
    "len(listoffiles)"
   ]
  },
  {
   "cell_type": "code",
   "execution_count": 82,
   "metadata": {
    "collapsed": false
   },
   "outputs": [],
   "source": [
    "for i in range(len(listoffiles)):\n",
    "    file=open(listoffiles[i],'r',encoding='utf-8').read()#open each file\n",
    "    file_parse=BS(file,\"lxml\")# use beautifulsoup to remove web tags \n",
    "    letters_file=re.sub(\"[^a-zA-Z]\",\" \",file_parse.get_text())#remove non-words with space\n",
    "    file_lower_case=letters_file.lower()#set all words lowercase\n",
    "    words=file_lower_case.split()#split the words to list\n",
    "    words= [w for w in words if not w in stopwords.words(\"english\")]#remove stopwords\n",
    "    wordscount=Counter(words)#count words\n",
    "    temp=[]\n",
    "    wordlist=[]\n",
    "    for key, value in wordscount.items():\n",
    "            temp=[key,value]\n",
    "            wordlist.append(temp)\n",
    "    wordlist.sort()#sort the counted words\n",
    "    df=pd.DataFrame(wordlist)\n",
    "    df.to_csv(listoffiles[i][:-4]+'csv', index=False)#save to csv file"
   ]
  },
  {
   "cell_type": "code",
   "execution_count": null,
   "metadata": {
    "collapsed": true
   },
   "outputs": [],
   "source": []
  }
 ],
 "metadata": {
  "kernelspec": {
   "display_name": "Python 3",
   "language": "python",
   "name": "python3"
  },
  "language_info": {
   "codemirror_mode": {
    "name": "ipython",
    "version": 3
   },
   "file_extension": ".py",
   "mimetype": "text/x-python",
   "name": "python",
   "nbconvert_exporter": "python",
   "pygments_lexer": "ipython3",
   "version": "3.5.1"
  }
 },
 "nbformat": 4,
 "nbformat_minor": 0
}
