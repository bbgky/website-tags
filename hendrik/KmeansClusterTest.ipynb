{
 "cells": [
  {
   "cell_type": "code",
   "execution_count": 76,
   "metadata": {
    "collapsed": true
   },
   "outputs": [],
   "source": [
    "import pandas as pd\n",
    "import glob\n",
    "from nltk.corpus import stopwords\n",
    "import numpy as np\n",
    "import matplotlib.pyplot as plt\n",
    "%matplotlib inline\n",
    "from sklearn.cluster import KMeans"
   ]
  },
  {
   "cell_type": "code",
   "execution_count": 77,
   "metadata": {
    "collapsed": false
   },
   "outputs": [],
   "source": [
    "# I load 101 pages for testing\n",
    "list_of_files=glob.glob('../../forcluster/*.txt')\n",
    "#each page is cleaned to be a huge string, by lnyx in bash. Put all the strings in a list\n",
    "allwords=[]\n",
    "for i in range(len(list_of_files)):\n",
    "    file=open(list_of_files[i],'r')\n",
    "    raw=file.read().strip('\\n')\n",
    "    allwords.append(raw)\n"
   ]
  },
  {
   "cell_type": "code",
   "execution_count": 79,
   "metadata": {
    "collapsed": false
   },
   "outputs": [
    {
     "name": "stdout",
     "output_type": "stream",
     "text": [
      "Total number of files is 101\n",
      "One example is\n",
      " dell o sign in click to chat or call us shop support community search financing live chat or call available contracts coupons join dell advantage rewards price match for work servers storage networking ajax loader gif servers storage and networking intel xeon tm poweredge server deals servers storage network hardware and devices dell software data center infrastructure client systems management other ways to shop server deals small business solutions find a dell certified partner parts for your dell servers parts for your dell storage parts for your dell network switches dell nic selector dell processor selector hour sale tremendous savings up to off are going fast shop now continual shop now shop now learn more chat need help deciding which solution is right for your business chat with our solutions advisor take the first step take the first step a dell expert will call you about your server needs request a call back shop enterprise products servers servers our powerful affordable network engines emphasize scalability and reliability select storage storage discover what you need to back up protect and consolidate important data select networking networking get high performance reliable managed and unmanaged network connectivity select sonicwall tz family dell sonicwall network security control manage and protect your network easily and automatically with intuitive security solutions from dell sonicwall select featured videos future ready storage that s ready right now future ready storage that s ready right now optimize your data center infrastructure grow storage on demand intelligently manage your data and seamlessly adapt to business needs with the innovative portfolio of dell storage solutions next generation poweredge servers next generation poweredge servers boost application performance and fuel innovation with the poweredge family of rack tower blade and converged platform servers introduction to converged introduction to converged shift your it focus from maintaining disparate devices in your data center to directing a single landscape of servers and storage video networkin c series resources and shopping help dell deals dell deals begin saving today learn more find a partner find a partner locate a dell certified partner near you more details dell business credit productivity is within reach get no interest if paid in full within days on poweredge servers or more limited time offer for qualified customers learn more do more with dell employee and student discounts partnerdirect the power to do more dell outlet techcenter make a payment about dell investors company information corporate social responsibility customer engagement careers newsroom legal ads emails privacy statement legal regulatory terms of sale trademarks community the dell community read our blog support forums events dell terms of sale unresolved issues privacy ads emails contact site map feedback ultrabook celeron celeron inside core inside intel intel logo intel atom intel atom inside intel core intel inside intel inside logo intel vpro itanium itanium inside pentium pentium inside vpro inside xeon xeon phi and xeon inside are trademarks of intel corporation in the u s and or other countries rewards are provided in the form of a promotional code back in rewards valid only on purchases using dell business credit dbc and dell advantage loyalty program back in rewards valid on all other dell advantage purchases bose products only eligible for rewards with dell advantage second business day shipping not available on tvs or larger and dell branded monitors rewards arrive separately from purchase typically in days from ship date via email expires in days except where prohibited by law any balance remaining on your purchase after dell advantage rewards are applied may not be paid with dbc and instead a separate form of payment must be used refurbished and or used purchases do not qualify for rewards terms and conditions apply dell com rewardterms dell business credit offer varies by creditworthiness as determined by lender offered by webbank to small and medium business customers with approved credit taxes shipping and other charges are extra and vary minimum monthly payments are the greater of or of account balance close p cs \n"
     ]
    }
   ],
   "source": [
    "#an example of the words from a page\n",
    "print(\"Total number of files is {}\".format(len(allwords)))\n",
    "print(\"One example is\")\n",
    "print(allwords[6])"
   ]
  },
  {
   "cell_type": "code",
   "execution_count": 80,
   "metadata": {
    "collapsed": false
   },
   "outputs": [
    {
     "data": {
      "text/plain": [
       "['i',\n",
       " 'me',\n",
       " 'my',\n",
       " 'myself',\n",
       " 'we',\n",
       " 'our',\n",
       " 'ours',\n",
       " 'ourselves',\n",
       " 'you',\n",
       " 'your',\n",
       " 'yours',\n",
       " 'yourself',\n",
       " 'yourselves',\n",
       " 'he',\n",
       " 'him',\n",
       " 'his',\n",
       " 'himself',\n",
       " 'she',\n",
       " 'her',\n",
       " 'hers',\n",
       " 'herself',\n",
       " 'it',\n",
       " 'its',\n",
       " 'itself',\n",
       " 'they',\n",
       " 'them',\n",
       " 'their',\n",
       " 'theirs',\n",
       " 'themselves',\n",
       " 'what',\n",
       " 'which',\n",
       " 'who',\n",
       " 'whom',\n",
       " 'this',\n",
       " 'that',\n",
       " 'these',\n",
       " 'those',\n",
       " 'am',\n",
       " 'is',\n",
       " 'are',\n",
       " 'was',\n",
       " 'were',\n",
       " 'be',\n",
       " 'been',\n",
       " 'being',\n",
       " 'have',\n",
       " 'has',\n",
       " 'had',\n",
       " 'having',\n",
       " 'do',\n",
       " 'does',\n",
       " 'did',\n",
       " 'doing',\n",
       " 'a',\n",
       " 'an',\n",
       " 'the',\n",
       " 'and',\n",
       " 'but',\n",
       " 'if',\n",
       " 'or',\n",
       " 'because',\n",
       " 'as',\n",
       " 'until',\n",
       " 'while',\n",
       " 'of',\n",
       " 'at',\n",
       " 'by',\n",
       " 'for',\n",
       " 'with',\n",
       " 'about',\n",
       " 'against',\n",
       " 'between',\n",
       " 'into',\n",
       " 'through',\n",
       " 'during',\n",
       " 'before',\n",
       " 'after',\n",
       " 'above',\n",
       " 'below',\n",
       " 'to',\n",
       " 'from',\n",
       " 'up',\n",
       " 'down',\n",
       " 'in',\n",
       " 'out',\n",
       " 'on',\n",
       " 'off',\n",
       " 'over',\n",
       " 'under',\n",
       " 'again',\n",
       " 'further',\n",
       " 'then',\n",
       " 'once',\n",
       " 'here',\n",
       " 'there',\n",
       " 'when',\n",
       " 'where',\n",
       " 'why',\n",
       " 'how',\n",
       " 'all',\n",
       " 'any',\n",
       " 'both',\n",
       " 'each',\n",
       " 'few',\n",
       " 'more',\n",
       " 'most',\n",
       " 'other',\n",
       " 'some',\n",
       " 'such',\n",
       " 'no',\n",
       " 'nor',\n",
       " 'not',\n",
       " 'only',\n",
       " 'own',\n",
       " 'same',\n",
       " 'so',\n",
       " 'than',\n",
       " 'too',\n",
       " 'very',\n",
       " 's',\n",
       " 't',\n",
       " 'can',\n",
       " 'will',\n",
       " 'just',\n",
       " 'don',\n",
       " 'should',\n",
       " 'now',\n",
       " 'd',\n",
       " 'll',\n",
       " 'm',\n",
       " 'o',\n",
       " 're',\n",
       " 've',\n",
       " 'y',\n",
       " 'ain',\n",
       " 'aren',\n",
       " 'couldn',\n",
       " 'didn',\n",
       " 'doesn',\n",
       " 'hadn',\n",
       " 'hasn',\n",
       " 'haven',\n",
       " 'isn',\n",
       " 'ma',\n",
       " 'mightn',\n",
       " 'mustn',\n",
       " 'needn',\n",
       " 'shan',\n",
       " 'shouldn',\n",
       " 'wasn',\n",
       " 'weren',\n",
       " 'won',\n",
       " 'wouldn',\n",
       " 'dell']"
      ]
     },
     "execution_count": 80,
     "metadata": {},
     "output_type": "execute_result"
    }
   ],
   "source": [
    "#load the stop words, and add word 'dell' to the list, show what is in the stop words.\n",
    "stops=stopwords.words(\"english\")\n",
    "stops.append('dell')\n",
    "stops"
   ]
  },
  {
   "cell_type": "code",
   "execution_count": 81,
   "metadata": {
    "collapsed": true
   },
   "outputs": [],
   "source": [
    "#load the bag_of_words method from sklearn, set the features to be 200, and get the word features \n",
    "#by calling the fit_transform method\n",
    "from sklearn.feature_extraction.text import CountVectorizer\n",
    "\n",
    "vectorizer = CountVectorizer(analyzer='word',stop_words=stops, max_features= 200)\n",
    "words_features = vectorizer.fit_transform(allwords)"
   ]
  },
  {
   "cell_type": "code",
   "execution_count": 82,
   "metadata": {
    "collapsed": false
   },
   "outputs": [
    {
     "data": {
      "text/plain": [
       "(101, 200)"
      ]
     },
     "execution_count": 82,
     "metadata": {},
     "output_type": "execute_result"
    }
   ],
   "source": [
    "#show the dimension of the words features, a 2D array, each row coresponds to each page.\n",
    "# columns are the most popular words frequency \n",
    "words_features=words_features.toarray()\n",
    "words_features.shape"
   ]
  },
  {
   "cell_type": "code",
   "execution_count": 83,
   "metadata": {
    "collapsed": false
   },
   "outputs": [
    {
     "name": "stdout",
     "output_type": "stream",
     "text": [
      "ab 201\n",
      "abcdefghijqrstuvwxyzabcdefghijqrstuvwxyz 116\n",
      "ac 103\n",
      "access 91\n",
      "account 88\n",
      "ads 122\n",
      "advantage 289\n",
      "amd 84\n",
      "apply 125\n",
      "atom 174\n",
      "au 97\n",
      "available 172\n",
      "ba 175\n",
      "back 149\n",
      "balance 120\n",
      "bit 113\n",
      "business 645\n",
      "call 147\n",
      "celeron 186\n",
      "center 102\n",
      "chat 219\n",
      "choose 173\n",
      "chromebook 105\n",
      "cm 182\n",
      "com 90\n",
      "community 202\n",
      "compare 100\n",
      "contact 95\n",
      "core 540\n",
      "corporation 93\n",
      "credit 225\n",
      "cs 122\n",
      "customer 92\n",
      "customers 95\n",
      "da 110\n",
      "data 182\n",
      "days 171\n",
      "dbc 112\n",
      "de 391\n",
      "deals 125\n",
      "design 115\n",
      "desktop 336\n",
      "desktops 176\n",
      "di 104\n",
      "display 114\n",
      "drive 244\n",
      "du 94\n",
      "dual 133\n",
      "dvd 94\n",
      "education 91\n",
      "emails 122\n",
      "en 150\n",
      "endobj 653\n",
      "endstream 495\n",
      "enterprise 95\n",
      "et 190\n",
      "eur 298\n",
      "factor 93\n",
      "fc 94\n",
      "features 113\n",
      "featuring 122\n",
      "financing 107\n",
      "form 217\n",
      "full 108\n",
      "fx 115\n",
      "gb 380\n",
      "gen 142\n",
      "get 128\n",
      "gif 95\n",
      "go 159\n",
      "graphics 87\n",
      "ha 150\n",
      "hard 157\n",
      "hd 142\n",
      "help 204\n",
      "high 85\n",
      "home 115\n",
      "ihelp 98\n",
      "information 106\n",
      "inside 773\n",
      "inspiron 448\n",
      "intel 1400\n",
      "itanium 167\n",
      "jp 90\n",
      "ku 123\n",
      "la 88\n",
      "laptop 235\n",
      "laptops 185\n",
      "latitude 519\n",
      "le 107\n",
      "learn 271\n",
      "legal 125\n",
      "les 157\n",
      "logo 158\n",
      "management 193\n",
      "memory 126\n",
      "micro 121\n",
      "mo 87\n",
      "mobile 164\n",
      "networking 91\n",
      "new 450\n",
      "ni 119\n",
      "non 109\n",
      "notebook 234\n",
      "obj 653\n",
      "offer 121\n",
      "one 187\n",
      "optional 115\n",
      "options 161\n",
      "optiplex 522\n",
      "paid 92\n",
      "partir 91\n",
      "partner 87\n",
      "partnerdirect 92\n",
      "payment 129\n",
      "pc 110\n",
      "pcs 98\n",
      "pdf 121\n",
      "pentium 189\n",
      "per 84\n",
      "performance 273\n",
      "phi 88\n",
      "plus 128\n",
      "power 189\n",
      "poweredge 315\n",
      "pp 97\n",
      "precision 492\n",
      "premier 227\n",
      "price 157\n",
      "privacy 122\n",
      "pro 133\n",
      "processor 126\n",
      "processors 113\n",
      "product 92\n",
      "productivity 99\n",
      "products 246\n",
      "professional 131\n",
      "prosupport 93\n",
      "ps 110\n",
      "purchase 136\n",
      "purchases 181\n",
      "rack 94\n",
      "read 85\n",
      "regulatory 88\n",
      "return 90\n",
      "rewards 461\n",
      "rmb 93\n",
      "sa 140\n",
      "sale 139\n",
      "sc 88\n",
      "secure 106\n",
      "security 150\n",
      "serie 111\n",
      "series 701\n",
      "server 262\n",
      "servers 209\n",
      "services 112\n",
      "ship 92\n",
      "shipping 164\n",
      "shop 229\n",
      "sie 93\n",
      "site 89\n",
      "siyon 94\n",
      "small 212\n",
      "software 108\n",
      "solutions 203\n",
      "starting 700\n",
      "storage 294\n",
      "stream 821\n",
      "support 343\n",
      "system 104\n",
      "ta 146\n",
      "tb 136\n",
      "te 98\n",
      "terms 189\n",
      "th 186\n",
      "ti 163\n",
      "tm 483\n",
      "top 112\n",
      "touch 210\n",
      "tower 170\n",
      "trademarks 122\n",
      "ultrabook 109\n",
      "un 123\n",
      "und 192\n",
      "us 132\n",
      "used 118\n",
      "valid 117\n",
      "view 114\n",
      "vostro 215\n",
      "vpro 195\n",
      "windows 435\n",
      "wo 108\n",
      "work 99\n",
      "workstation 148\n",
      "workstations 242\n",
      "world 94\n",
      "xeon 322\n",
      "xps 363\n",
      "zu 169\n"
     ]
    }
   ],
   "source": [
    "#show the feature words and their counts\n",
    "key_words = vectorizer.get_feature_names()\n",
    "words_count=np.sum(words_features,axis=0)\n",
    "\n",
    "for tag, count in zip(key_words,words_count):\n",
    "    print(tag, count)"
   ]
  },
  {
   "cell_type": "code",
   "execution_count": 93,
   "metadata": {
    "collapsed": true
   },
   "outputs": [],
   "source": [
    "#initialize the kmeans clustering methods, and cluster the words_features to 5 classes \n",
    "kmeans_clustering=KMeans(n_clusters=6,n_jobs=-1, random_state=14)\n",
    "prediction_cluster=kmeans_clustering.fit_predict(words_features)"
   ]
  },
  {
   "cell_type": "code",
   "execution_count": 94,
   "metadata": {
    "collapsed": false
   },
   "outputs": [
    {
     "data": {
      "image/png": "[encoded data removed]",
      "text/plain": [
       "<matplotlib.figure.Figure at 0x11a137710>"
      ]
     },
     "metadata": {},
     "output_type": "display_data"
    }
   ],
   "source": [
    "#2-D plot of the word-features with the predicted classes. \n",
    "#beacause of it is a 200 dimension data projecting to 2-dimension, maybe that is why\n",
    "#we cannot see seperated classes\n",
    "plt.scatter(words_features[:,key_words.index('features')],\n",
    "            words_features[:,key_words.index('learn')], c=prediction_cluster)\n",
    "plt.xlabel('one_key_word')\n",
    "plt.ylabel('another_key_word')\n",
    "\n",
    "plt.show()"
   ]
  },
  {
   "cell_type": "code",
   "execution_count": 96,
   "metadata": {
    "collapsed": false
   },
   "outputs": [
    {
     "data": {
      "image/png": "[encoded data removed]",
      "text/plain": [
       "<matplotlib.figure.Figure at 0x11a156dd8>"
      ]
     },
     "metadata": {},
     "output_type": "display_data"
    }
   ],
   "source": [
    "plt.scatter(range(1,len(prediction_cluster)+1),prediction_cluster,)\n",
    "plt.ylim(-1,6)\n",
    "plt.show()"
   ]
  },
  {
   "cell_type": "code",
   "execution_count": null,
   "metadata": {
    "collapsed": true
   },
   "outputs": [],
   "source": []
  }
 ],
 "metadata": {
  "kernelspec": {
   "display_name": "Python 3",
   "language": "python",
   "name": "python3"
  },
  "language_info": {
   "codemirror_mode": {
    "name": "ipython",
    "version": 3
   },
   "file_extension": ".py",
   "mimetype": "text/x-python",
   "name": "python",
   "nbconvert_exporter": "python",
   "pygments_lexer": "ipython3",
   "version": "3.5.1"
  }
 },
 "nbformat": 4,
 "nbformat_minor": 0
}
